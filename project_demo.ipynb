{
 "cells": [
  {
   "cell_type": "code",
   "execution_count": 1,
   "metadata": {},
   "outputs": [],
   "source": [
    "import warnings\n",
    "warnings.filterwarnings('ignore')\n",
    "\n",
    "import numpy as np\n",
    "import pandas as pd\n",
    "from ML_Data import ML_Data"
   ]
  },
  {
   "cell_type": "markdown",
   "metadata": {},
   "source": [
    "# 1a. Classification tree Outputs\n"
   ]
  },
  {
   "cell_type": "code",
   "execution_count": 2,
   "metadata": {},
   "outputs": [
    {
     "name": "stdout",
     "output_type": "stream",
     "text": [
      "691 rows in training set\n",
      "691 rows in testing set\n",
      "346 rows in pruning set\n"
     ]
    }
   ],
   "source": [
    "headers = ['buying', 'maint', 'doors', 'persons', 'lug_boot', 'safety', 'class']\n",
    "target = 'class'\n",
    "careval = ML_Data('data/car+evaluation/car.data', headers)\n",
    "careval.data = careval.replace_categories(dict({'low':0, 'med': 1, 'high':2, 'vhigh':3, 'small': 0, 'big': 2, 'unacc': 0, 'acc': 1, 'good': 2, 'vgood': 3}))\n",
    "careval.data = careval.replace_categories(dict({'2':0, '3':1, '4':2, '5more': 3}), columns=['doors'])\n",
    "train1s, train2s, kx2tests = careval.crossvalid_kx2(5)\n",
    "\n",
    "ce_train_features = train1s[0].drop([target], axis = 1)\n",
    "ce_train_labels = train1s[0][target]\n",
    "ce_test_features = train2s[0].drop([target], axis = 1)\n",
    "ce_test_labels = train2s[0][target]\n",
    "ce_prune_features = kx2tests[0].drop([target], axis = 1)\n",
    "ce_prune_labels = kx2tests[0][target]\n",
    "\n",
    "print(f'{ce_train_labels.shape[0]} rows in training set')\n",
    "print(f'{ce_test_labels.shape[0]} rows in testing set')\n",
    "print(f'{ce_prune_labels.shape[0]} rows in pruning set')\n"
   ]
  },
  {
   "cell_type": "code",
   "execution_count": 3,
   "metadata": {},
   "outputs": [
    {
     "name": "stdout",
     "output_type": "stream",
     "text": [
      "Full tree accuracy: 0.8986975397973951\n",
      "Full tree parent nodes: 59\n",
      "Pruned tree accuracy: 0.8769898697539797\n",
      "Pruned tree parent nodes: 40\n"
     ]
    }
   ],
   "source": [
    "ce_tree = careval.Generate_Tree(ce_train_features, ce_train_features[[]], ce_train_labels, 0.01)\n",
    "full_acc, preds = careval.evaluate_tree(ce_tree, ce_test_features, ce_test_labels, classify=True)\n",
    "print(f'Full tree accuracy: {full_acc}')\n",
    "print(f'Full tree parent nodes: {len(careval.vertices(ce_tree, location=[], node_list=[]))}')\n",
    "\n",
    "pruned_ce_tree = careval.iter_prune(ce_tree, ce_prune_features, ce_prune_labels, classify=True)\n",
    "pruned_acc, preds = careval.evaluate_tree(pruned_ce_tree, ce_test_features, ce_test_labels, classify=True)\n",
    "print(f'Pruned tree accuracy: {pruned_acc}')\n",
    "print(f'Pruned tree parent nodes: {len(careval.vertices(pruned_ce_tree, location=[], node_list=[]))}')\n"
   ]
  },
  {
   "cell_type": "markdown",
   "metadata": {},
   "source": [
    "# 1b. Regression tree outputs"
   ]
  },
  {
   "cell_type": "code",
   "execution_count": 4,
   "metadata": {},
   "outputs": [
    {
     "data": {
      "text/html": [
       "<div>\n",
       "<style scoped>\n",
       "    .dataframe tbody tr th:only-of-type {\n",
       "        vertical-align: middle;\n",
       "    }\n",
       "\n",
       "    .dataframe tbody tr th {\n",
       "        vertical-align: top;\n",
       "    }\n",
       "\n",
       "    .dataframe thead th {\n",
       "        text-align: right;\n",
       "    }\n",
       "</style>\n",
       "<table border=\"1\" class=\"dataframe\">\n",
       "  <thead>\n",
       "    <tr style=\"text-align: right;\">\n",
       "      <th></th>\n",
       "      <th>Vendor Name</th>\n",
       "      <th>Model Name</th>\n",
       "      <th>MYCT</th>\n",
       "      <th>MMIN</th>\n",
       "      <th>MMAX</th>\n",
       "      <th>CACH</th>\n",
       "      <th>CHMIN</th>\n",
       "      <th>CHMAX</th>\n",
       "      <th>PRP</th>\n",
       "      <th>ERP</th>\n",
       "    </tr>\n",
       "  </thead>\n",
       "  <tbody>\n",
       "    <tr>\n",
       "      <th>0</th>\n",
       "      <td>adviser</td>\n",
       "      <td>32/60</td>\n",
       "      <td>125</td>\n",
       "      <td>256</td>\n",
       "      <td>6000</td>\n",
       "      <td>256</td>\n",
       "      <td>16</td>\n",
       "      <td>128</td>\n",
       "      <td>198</td>\n",
       "      <td>199</td>\n",
       "    </tr>\n",
       "    <tr>\n",
       "      <th>1</th>\n",
       "      <td>amdahl</td>\n",
       "      <td>470v/7</td>\n",
       "      <td>29</td>\n",
       "      <td>8000</td>\n",
       "      <td>32000</td>\n",
       "      <td>32</td>\n",
       "      <td>8</td>\n",
       "      <td>32</td>\n",
       "      <td>269</td>\n",
       "      <td>253</td>\n",
       "    </tr>\n",
       "    <tr>\n",
       "      <th>2</th>\n",
       "      <td>amdahl</td>\n",
       "      <td>470v/7a</td>\n",
       "      <td>29</td>\n",
       "      <td>8000</td>\n",
       "      <td>32000</td>\n",
       "      <td>32</td>\n",
       "      <td>8</td>\n",
       "      <td>32</td>\n",
       "      <td>220</td>\n",
       "      <td>253</td>\n",
       "    </tr>\n",
       "    <tr>\n",
       "      <th>3</th>\n",
       "      <td>amdahl</td>\n",
       "      <td>470v/7b</td>\n",
       "      <td>29</td>\n",
       "      <td>8000</td>\n",
       "      <td>32000</td>\n",
       "      <td>32</td>\n",
       "      <td>8</td>\n",
       "      <td>32</td>\n",
       "      <td>172</td>\n",
       "      <td>253</td>\n",
       "    </tr>\n",
       "    <tr>\n",
       "      <th>4</th>\n",
       "      <td>amdahl</td>\n",
       "      <td>470v/7c</td>\n",
       "      <td>29</td>\n",
       "      <td>8000</td>\n",
       "      <td>16000</td>\n",
       "      <td>32</td>\n",
       "      <td>8</td>\n",
       "      <td>16</td>\n",
       "      <td>132</td>\n",
       "      <td>132</td>\n",
       "    </tr>\n",
       "  </tbody>\n",
       "</table>\n",
       "</div>"
      ],
      "text/plain": [
       "  Vendor Name Model Name  MYCT  MMIN   MMAX  CACH  CHMIN  CHMAX  PRP  ERP\n",
       "0     adviser      32/60   125   256   6000   256     16    128  198  199\n",
       "1      amdahl     470v/7    29  8000  32000    32      8     32  269  253\n",
       "2      amdahl    470v/7a    29  8000  32000    32      8     32  220  253\n",
       "3      amdahl    470v/7b    29  8000  32000    32      8     32  172  253\n",
       "4      amdahl    470v/7c    29  8000  16000    32      8     16  132  132"
      ]
     },
     "metadata": {},
     "output_type": "display_data"
    },
    {
     "name": "stdout",
     "output_type": "stream",
     "text": [
      "83 rows in training set\n",
      "84 rows in testing set\n",
      "42 rows in pruning set\n"
     ]
    }
   ],
   "source": [
    "headers = ['Vendor Name', 'Model Name', 'MYCT', 'MMIN', 'MMAX', 'CACH', 'CHMIN', 'CHMAX', 'PRP', 'ERP']\n",
    "target = 'PRP'\n",
    "computer = ML_Data('data/computer+hardware/machine.data', headers)\n",
    "display(computer.data.head())\n",
    "train1s, train2s, kx2tests = computer.crossvalid_kx2(5)\n",
    "\n",
    "com_train_features = train1s[0].drop(['Vendor Name', 'Model Name', 'ERP', target], axis = 1)\n",
    "com_train_labels = train1s[0][target]\n",
    "com_test_features = train2s[0].drop(['Vendor Name', 'Model Name', 'ERP', target], axis = 1)\n",
    "com_test_labels = train2s[0][target]\n",
    "com_prune_features = kx2tests[0].drop(['Vendor Name', 'Model Name', 'ERP', target], axis = 1)\n",
    "com_prune_labels = kx2tests[0][target]\n",
    "\n",
    "print(f'{com_train_labels.shape[0]} rows in training set')\n",
    "print(f'{com_test_labels.shape[0]} rows in testing set')\n",
    "print(f'{com_prune_labels.shape[0]} rows in pruning set')"
   ]
  },
  {
   "cell_type": "code",
   "execution_count": 5,
   "metadata": {},
   "outputs": [
    {
     "name": "stdout",
     "output_type": "stream",
     "text": [
      "Full tree mse: 81.6226881909266\n",
      "Full tree parent nodes: 77\n",
      "Pruned tree mse: 77.37169316021685\n",
      "Pruned tree parent nodes: 25\n"
     ]
    }
   ],
   "source": [
    "computer_tree = computer.Generate_Tree(com_train_features[[]], com_train_features, com_train_labels, theta = 0, classify=False)\n",
    "full_mse, preds = computer.evaluate_tree(computer_tree, com_test_features, com_test_labels, classify=False)\n",
    "print(f'Full tree mse: {full_mse}')\n",
    "print(f'Full tree parent nodes: {len(computer.vertices(computer_tree, location=[], node_list=[]))}')\n",
    "\n",
    "pruned_com_tree = computer.iter_prune(computer_tree, com_prune_features, com_prune_labels, classify=False)\n",
    "pruned_mse, preds = computer.evaluate_tree(pruned_com_tree, com_test_features, com_test_labels, classify=False)\n",
    "print(f'Pruned tree mse: {pruned_mse}')\n",
    "print(f'Pruned tree parent nodes: {len(computer.vertices(pruned_com_tree, location=[], node_list=[]))}')"
   ]
  },
  {
   "cell_type": "markdown",
   "metadata": {},
   "source": [
    "# 2a. Sample classification tree without pruning\n"
   ]
  },
  {
   "cell_type": "code",
   "execution_count": 6,
   "metadata": {},
   "outputs": [
    {
     "data": {
      "text/plain": [
       "[[],\n",
       " [0],\n",
       " [0, 1],\n",
       " [0, 1, 0],\n",
       " [0, 1, 0, 0],\n",
       " [0, 1, 0, 1],\n",
       " [0, 1, 0, 1, 2],\n",
       " [0, 1, 0, 2],\n",
       " [0, 1, 0, 2, 2],\n",
       " [0, 1, 0, 3],\n",
       " [0, 1, 1],\n",
       " [0, 1, 1, 0],\n",
       " [0, 1, 1, 2],\n",
       " [0, 1, 2],\n",
       " [0, 1, 2, 0],\n",
       " [0, 1, 2, 1],\n",
       " [0, 1, 2, 2],\n",
       " [0, 1, 2, 3],\n",
       " [0, 2],\n",
       " [0, 2, 0],\n",
       " [0, 2, 0, 1],\n",
       " [0, 2, 0, 2],\n",
       " [0, 2, 0, 2, 0],\n",
       " [0, 2, 1],\n",
       " [0, 2, 1, 1],\n",
       " [0, 2, 1, 2],\n",
       " [0, 2, 2],\n",
       " [0, 2, 2, 0],\n",
       " [0, 2, 2, 1],\n",
       " [0, 2, 3],\n",
       " [0, 2, 3, 1],\n",
       " [0, 2, 3, 2],\n",
       " [0, 2, 3, 3],\n",
       " [1],\n",
       " [1, 0],\n",
       " [1, 0, 0],\n",
       " [1, 0, 0, 0],\n",
       " [1, 0, 0, 2],\n",
       " [1, 0, 1],\n",
       " [1, 0, 1, 0],\n",
       " [1, 0, 1, 1],\n",
       " [1, 0, 1, 3],\n",
       " [1, 0, 2],\n",
       " [1, 0, 2, 0],\n",
       " [1, 0, 3],\n",
       " [1, 0, 3, 2],\n",
       " [1, 0, 3, 2, 1],\n",
       " [1, 1],\n",
       " [1, 1, 0],\n",
       " [1, 1, 1],\n",
       " [1, 1, 2],\n",
       " [1, 1, 2, 1],\n",
       " [1, 1, 2, 1, 0],\n",
       " [1, 1, 2, 3],\n",
       " [1, 1, 3],\n",
       " [1, 1, 3, 0],\n",
       " [1, 1, 3, 0, 1],\n",
       " [1, 1, 3, 2],\n",
       " [1, 1, 3, 3]]"
      ]
     },
     "metadata": {},
     "output_type": "display_data"
    }
   ],
   "source": [
    "parent_nodes = careval.vertices(ce_tree, location=[], node_list=[])\n",
    "display(parent_nodes)"
   ]
  },
  {
   "cell_type": "code",
   "execution_count": 7,
   "metadata": {},
   "outputs": [
    {
     "name": "stdout",
     "output_type": "stream",
     "text": [
      "59\n"
     ]
    }
   ],
   "source": [
    "print(len(parent_nodes))"
   ]
  },
  {
   "cell_type": "markdown",
   "metadata": {},
   "source": [
    "# 2b. Sample classification tree with pruning"
   ]
  },
  {
   "cell_type": "code",
   "execution_count": 8,
   "metadata": {},
   "outputs": [
    {
     "data": {
      "text/plain": [
       "[[],\n",
       " [0],\n",
       " [0, 1],\n",
       " [0, 1, 1],\n",
       " [0, 1, 1, 0],\n",
       " [0, 1, 1, 2],\n",
       " [0, 1, 2],\n",
       " [0, 1, 2, 0],\n",
       " [0, 1, 2, 1],\n",
       " [0, 1, 2, 2],\n",
       " [0, 1, 2, 3],\n",
       " [0, 2],\n",
       " [0, 2, 0],\n",
       " [0, 2, 0, 1],\n",
       " [0, 2, 0, 2],\n",
       " [0, 2, 0, 2, 0],\n",
       " [0, 2, 1],\n",
       " [0, 2, 1, 1],\n",
       " [0, 2, 1, 2],\n",
       " [0, 2, 2],\n",
       " [0, 2, 2, 0],\n",
       " [0, 2, 2, 1],\n",
       " [0, 2, 3],\n",
       " [0, 2, 3, 1],\n",
       " [0, 2, 3, 2],\n",
       " [0, 2, 3, 3],\n",
       " [1],\n",
       " [1, 0],\n",
       " [1, 0, 1],\n",
       " [1, 0, 1, 3],\n",
       " [1, 0, 3],\n",
       " [1, 0, 3, 2],\n",
       " [1, 0, 3, 2, 1],\n",
       " [1, 1],\n",
       " [1, 1, 0],\n",
       " [1, 1, 1],\n",
       " [1, 1, 2],\n",
       " [1, 1, 2, 1],\n",
       " [1, 1, 2, 1, 0],\n",
       " [1, 1, 2, 3]]"
      ]
     },
     "metadata": {},
     "output_type": "display_data"
    }
   ],
   "source": [
    "parent_nodes = careval.vertices(pruned_ce_tree, location=[], node_list=[])\n",
    "display(parent_nodes)"
   ]
  },
  {
   "cell_type": "code",
   "execution_count": 9,
   "metadata": {},
   "outputs": [
    {
     "name": "stdout",
     "output_type": "stream",
     "text": [
      "40\n"
     ]
    }
   ],
   "source": [
    "print(len(parent_nodes))"
   ]
  },
  {
   "cell_type": "markdown",
   "metadata": {},
   "source": [
    "# 3a. Sample regression tree without pruning\n"
   ]
  },
  {
   "cell_type": "code",
   "execution_count": 10,
   "metadata": {},
   "outputs": [
    {
     "data": {
      "text/plain": [
       "[[],\n",
       " [0],\n",
       " [0, 0],\n",
       " [0, 0, 0],\n",
       " [0, 0, 0, 0],\n",
       " [0, 0, 0, 0, 0],\n",
       " [0, 0, 0, 0, 0, 0],\n",
       " [0, 0, 0, 0, 0, 0, 1],\n",
       " [0, 0, 0, 0, 0, 0, 1, 1],\n",
       " [0, 0, 0, 0, 0, 0, 1, 1, 1],\n",
       " [0, 0, 0, 0, 0, 1],\n",
       " [0, 0, 0, 0, 0, 1, 0],\n",
       " [0, 0, 0, 0, 0, 1, 1],\n",
       " [0, 0, 0, 0, 0, 1, 1, 0],\n",
       " [0, 0, 0, 0, 0, 1, 1, 0, 1],\n",
       " [0, 0, 0, 0, 0, 1, 1, 0, 1, 1],\n",
       " [0, 0, 0, 0, 0, 1, 1, 1],\n",
       " [0, 0, 0, 0, 1],\n",
       " [0, 0, 0, 0, 1, 0],\n",
       " [0, 0, 0, 0, 1, 0, 0],\n",
       " [0, 0, 0, 0, 1, 0, 0, 0],\n",
       " [0, 0, 0, 0, 1, 0, 0, 0, 1],\n",
       " [0, 0, 0, 0, 1, 0, 0, 0, 1, 0],\n",
       " [0, 0, 0, 0, 1, 0, 0, 0, 1, 1],\n",
       " [0, 0, 0, 0, 1, 0, 0, 1],\n",
       " [0, 0, 0, 0, 1, 0, 1],\n",
       " [0, 0, 0, 0, 1, 0, 1, 0],\n",
       " [0, 0, 0, 0, 1, 0, 1, 0, 1],\n",
       " [0, 0, 0, 0, 1, 0, 1, 1],\n",
       " [0, 0, 0, 0, 1, 0, 1, 1, 0],\n",
       " [0, 0, 0, 0, 1, 0, 1, 1, 0, 0],\n",
       " [0, 0, 0, 0, 1, 0, 1, 1, 0, 1],\n",
       " [0, 0, 0, 0, 1, 0, 1, 1, 1],\n",
       " [0, 0, 0, 0, 1, 1],\n",
       " [0, 0, 0, 0, 1, 1, 0],\n",
       " [0, 0, 0, 0, 1, 1, 0, 0],\n",
       " [0, 0, 0, 0, 1, 1, 0, 0, 1],\n",
       " [0, 0, 0, 0, 1, 1, 0, 1],\n",
       " [0, 0, 0, 0, 1, 1, 0, 1, 1],\n",
       " [0, 0, 0, 0, 1, 1, 1],\n",
       " [0, 0, 0, 1],\n",
       " [0, 0, 0, 1, 1],\n",
       " [0, 0, 1],\n",
       " [0, 0, 1, 0],\n",
       " [0, 0, 1, 0, 0],\n",
       " [0, 0, 1, 0, 0, 1],\n",
       " [0, 0, 1, 0, 0, 1, 0],\n",
       " [0, 0, 1, 0, 0, 1, 0, 0],\n",
       " [0, 0, 1, 0, 0, 1, 0, 0, 0],\n",
       " [0, 0, 1, 0, 0, 1, 0, 0, 0, 1],\n",
       " [0, 0, 1, 0, 0, 1, 0, 1],\n",
       " [0, 0, 1, 0, 0, 1, 0, 1, 0],\n",
       " [0, 0, 1, 0, 0, 1, 0, 1, 0, 0],\n",
       " [0, 0, 1, 0, 0, 1, 0, 1, 0, 1],\n",
       " [0, 0, 1, 0, 0, 1, 0, 1, 1],\n",
       " [0, 0, 1, 0, 0, 1, 1],\n",
       " [0, 0, 1, 0, 0, 1, 1, 0],\n",
       " [0, 0, 1, 0, 0, 1, 1, 0, 0],\n",
       " [0, 0, 1, 0, 0, 1, 1, 1],\n",
       " [0, 0, 1, 0, 0, 1, 1, 1, 1],\n",
       " [0, 0, 1, 0, 1],\n",
       " [0, 0, 1, 0, 1, 0],\n",
       " [0, 0, 1, 0, 1, 0, 0],\n",
       " [0, 0, 1, 0, 1, 0, 0, 0],\n",
       " [0, 0, 1, 0, 1, 0, 0, 1],\n",
       " [0, 0, 1, 0, 1, 0, 1],\n",
       " [0, 0, 1, 0, 1, 0, 1, 1],\n",
       " [0, 0, 1, 1],\n",
       " [0, 0, 1, 1, 0],\n",
       " [0, 1],\n",
       " [0, 1, 0],\n",
       " [0, 1, 1],\n",
       " [0, 1, 1, 1],\n",
       " [0, 1, 1, 1, 0],\n",
       " [0, 1, 1, 1, 1],\n",
       " [1],\n",
       " [1, 0]]"
      ]
     },
     "metadata": {},
     "output_type": "display_data"
    }
   ],
   "source": [
    "parent_nodes = computer.vertices(computer_tree, location=[], node_list=[])\n",
    "display(parent_nodes)"
   ]
  },
  {
   "cell_type": "code",
   "execution_count": 11,
   "metadata": {},
   "outputs": [
    {
     "name": "stdout",
     "output_type": "stream",
     "text": [
      "77\n"
     ]
    }
   ],
   "source": [
    "print(len(parent_nodes))"
   ]
  },
  {
   "cell_type": "markdown",
   "metadata": {},
   "source": [
    "# 3b. Sample regression tree pruning"
   ]
  },
  {
   "cell_type": "code",
   "execution_count": 12,
   "metadata": {},
   "outputs": [
    {
     "data": {
      "text/plain": [
       "[[],\n",
       " [0],\n",
       " [0, 0],\n",
       " [0, 0, 0],\n",
       " [0, 0, 0, 0],\n",
       " [0, 0, 0, 0, 1],\n",
       " [0, 0, 0, 1],\n",
       " [0, 0, 0, 1, 1],\n",
       " [0, 0, 1],\n",
       " [0, 0, 1, 0],\n",
       " [0, 0, 1, 0, 1],\n",
       " [0, 0, 1, 0, 1, 0],\n",
       " [0, 0, 1, 0, 1, 0, 0],\n",
       " [0, 0, 1, 0, 1, 0, 0, 0],\n",
       " [0, 0, 1, 0, 1, 0, 0, 1],\n",
       " [0, 0, 1, 0, 1, 0, 1],\n",
       " [0, 0, 1, 0, 1, 0, 1, 1],\n",
       " [0, 0, 1, 1],\n",
       " [0, 0, 1, 1, 0],\n",
       " [0, 1],\n",
       " [0, 1, 1],\n",
       " [0, 1, 1, 1],\n",
       " [0, 1, 1, 1, 0],\n",
       " [0, 1, 1, 1, 1],\n",
       " [1]]"
      ]
     },
     "metadata": {},
     "output_type": "display_data"
    }
   ],
   "source": [
    "parent_nodes = computer.vertices(pruned_com_tree, location=[], node_list=[])\n",
    "display(parent_nodes)"
   ]
  },
  {
   "cell_type": "code",
   "execution_count": 13,
   "metadata": {},
   "outputs": [
    {
     "name": "stdout",
     "output_type": "stream",
     "text": [
      "25\n"
     ]
    }
   ],
   "source": [
    "print(len(parent_nodes))"
   ]
  },
  {
   "cell_type": "markdown",
   "metadata": {},
   "source": [
    "# 4a. Calculation of information gain, gain ratio,"
   ]
  },
  {
   "cell_type": "code",
   "execution_count": 14,
   "metadata": {},
   "outputs": [
    {
     "name": "stdout",
     "output_type": "stream",
     "text": [
      "H(D_pi): 0.6931471805599453\n",
      "E_pi(f_i): 0.0\n",
      "IV(f_i): 0.6931471805599453\n",
      "gain ratio: 1.0\n"
     ]
    }
   ],
   "source": [
    "import math\n",
    "\n",
    "labels = pd.Series([0, 0, 0, 0, 1, 1, 1, 1])\n",
    "highly_pure_splits = [pd.Series([0, 0, 0, 0]), pd.Series([1, 1, 1, 1])]\n",
    "\n",
    "nobs = labels.shape[0]\n",
    "E_pi = 0\n",
    "IV = 0\n",
    "for label_split in highly_pure_splits:\n",
    "    p_level = len(label_split)/nobs #sample probability that feature = level\n",
    "    E_pi = E_pi + p_level * careval.entropy(label_split)\n",
    "    IV = IV - p_level * math.log(p_level)\n",
    "split_metric = (careval.entropy(labels) - E_pi) / IV # gain ratio\n",
    "\n",
    "print(f'H(D_pi): {careval.entropy(labels)}')\n",
    "print(f'E_pi(f_i): {E_pi}')\n",
    "print(f'IV(f_i): {IV}')\n",
    "print(f'gain ratio: {split_metric}')\n"
   ]
  },
  {
   "cell_type": "code",
   "execution_count": 15,
   "metadata": {},
   "outputs": [
    {
     "name": "stdout",
     "output_type": "stream",
     "text": [
      "1.0\n",
      "0.1887218755408672\n",
      "0.0\n"
     ]
    }
   ],
   "source": [
    "labels = pd.Series([0, 0, 0, 0, 1, 1, 1, 1])\n",
    "\n",
    "highly_pure_splits = [pd.Series([0, 0, 0, 0]), pd.Series([1, 1, 1, 1])]\n",
    "print(careval.split_feature(labels, highly_pure_splits, classify=True))\n",
    "\n",
    "less_pure_splits = [pd.Series([0, 0, 0, 1]), pd.Series([1, 1, 1, 0])]\n",
    "print(careval.split_feature(labels, less_pure_splits, classify=True))\n",
    "\n",
    "not_pure_splits = [pd.Series([0, 1, 0, 1]), pd.Series([0, 1, 1, 0])]\n",
    "print(careval.split_feature(labels, not_pure_splits, classify=True))\n"
   ]
  },
  {
   "cell_type": "markdown",
   "metadata": {},
   "source": [
    "# 4b. Calculation of mse"
   ]
  },
  {
   "cell_type": "code",
   "execution_count": 16,
   "metadata": {},
   "outputs": [
    {
     "name": "stdout",
     "output_type": "stream",
     "text": [
      "mse: 1.25\n"
     ]
    }
   ],
   "source": [
    "labels = pd.Series([0, 1, 2, 3, 4, 5, 6, 7])\n",
    "good_splits = [pd.Series([0, 1, 2, 3]), pd.Series([4, 5, 6, 7])]\n",
    "\n",
    "\n",
    "split_metric = 0\n",
    "for label_split in good_splits:\n",
    "    mu = label_split.mean()\n",
    "    sigma_2 = 1/nobs*(label_split - mu)**2\n",
    "    split_metric = split_metric + sigma_2.sum() \n",
    "\n",
    "print(f'mse: {split_metric}')\n"
   ]
  },
  {
   "cell_type": "code",
   "execution_count": 17,
   "metadata": {},
   "outputs": [
    {
     "name": "stdout",
     "output_type": "stream",
     "text": [
      "mse: 4.6875\n"
     ]
    }
   ],
   "source": [
    "labels = pd.Series([0, 1, 2, 3, 4, 5, 6, 7])\n",
    "bad_splits = [pd.Series([0, 1, 4, 6]), pd.Series([2, 3, 5, 7])]\n",
    "\n",
    "split_metric = 0\n",
    "for label_split in bad_splits:\n",
    "    mu = label_split.mean()\n",
    "    sigma_2 = 1/nobs*(label_split - mu)**2\n",
    "    split_metric = split_metric + sigma_2.sum() \n",
    "\n",
    "print(f'mse: {split_metric}')\n"
   ]
  },
  {
   "cell_type": "markdown",
   "metadata": {},
   "source": [
    "# 5. Decision being made to prune a subtree"
   ]
  },
  {
   "cell_type": "code",
   "execution_count": 18,
   "metadata": {},
   "outputs": [],
   "source": [
    "import copy\n",
    "\n",
    "def prune(container, tree, p_features, p_labels, classify):        \n",
    "    base_metric, preds = container.evaluate_tree(tree, p_features, p_labels, classify)\n",
    "    parent_nodes = container.vertices(tree, location=[], node_list=[])\n",
    "    if classify:\n",
    "        sign = 1\n",
    "    else:\n",
    "        sign = -1\n",
    "    code_list = parent_nodes[1:]\n",
    "    for parent_node in code_list:\n",
    "        dummy_tree = copy.deepcopy(tree)\n",
    "        pruned_tree = container.replace_node(dummy_tree, parent_node, classify)\n",
    "        pruned_metric, preds = container.evaluate_tree(pruned_tree, p_features, p_labels, classify)\n",
    "        print(f'base mse: {base_metric}, pruned tree mse: {pruned_metric}')\n",
    "        if (pruned_metric * sign) > (base_metric * sign):\n",
    "            return pruned_tree, parent_node\n",
    "    return 'no change', []"
   ]
  },
  {
   "cell_type": "code",
   "execution_count": 19,
   "metadata": {},
   "outputs": [
    {
     "name": "stdout",
     "output_type": "stream",
     "text": [
      "base mse: 122.9176499826151, pruned tree mse: 190.24652952884017\n",
      "base mse: 122.9176499826151, pruned tree mse: 137.83343169993228\n",
      "base mse: 122.9176499826151, pruned tree mse: 124.66143730072592\n",
      "base mse: 122.9176499826151, pruned tree mse: 123.09284436283586\n",
      "base mse: 122.9176499826151, pruned tree mse: 122.6878410813653\n"
     ]
    },
    {
     "data": {
      "text/plain": [
       "(<DecisionTree.DecisionTree at 0x18c65c12e40>, [0, 0, 0, 0, 0])"
      ]
     },
     "execution_count": 19,
     "metadata": {},
     "output_type": "execute_result"
    }
   ],
   "source": [
    "prune(computer, computer_tree, com_prune_features, com_prune_labels, classify=False)"
   ]
  },
  {
   "cell_type": "markdown",
   "metadata": {},
   "source": [
    "# 6. Traversing a classification tree and a class label being assigned"
   ]
  },
  {
   "cell_type": "code",
   "execution_count": 28,
   "metadata": {},
   "outputs": [],
   "source": [
    "def predict(tree, test_sample):\n",
    "    '''\n",
    "    Recursive traversal of Decision Tree \n",
    "    '''\n",
    "    # Base case (leaf node): return prediction, error/probability\n",
    "    if len(tree.children) == 0:\n",
    "        return tree.feature_name, tree.keys\n",
    "    # General case: choose child node, based on feature and criteria\n",
    "    else:\n",
    "        test_value = test_sample[tree.feature_name]\n",
    "        if len(tree.keys) == 1: # numerical feature\n",
    "            if test_value < tree.keys[0]:\n",
    "                out = tree.children[0].predict(test_sample)\n",
    "            else:\n",
    "                out = tree.children[1].predict(test_sample)\n",
    "        else: # categorical feature\n",
    "            if test_value in tree.keys:\n",
    "                test_index = tree.keys.index(test_value)\n",
    "            else:\n",
    "                test_index = 0\n",
    "            out = tree.children[test_index].predict(test_sample)\n",
    "        return out"
   ]
  },
  {
   "cell_type": "code",
   "execution_count": 26,
   "metadata": {},
   "outputs": [
    {
     "data": {
      "text/plain": [
       "buying         1\n",
       "maint          1\n",
       "doors          0\n",
       "persons     more\n",
       "lug_boot       1\n",
       "safety         2\n",
       "Name: 1103, dtype: object"
      ]
     },
     "metadata": {},
     "output_type": "display_data"
    },
    {
     "data": {
      "text/plain": [
       "1"
      ]
     },
     "metadata": {},
     "output_type": "display_data"
    }
   ],
   "source": [
    "sample = ce_test_features.iloc[0]\n",
    "display(sample)\n",
    "display(ce_test_labels.iloc[0])"
   ]
  },
  {
   "cell_type": "code",
   "execution_count": 29,
   "metadata": {},
   "outputs": [
    {
     "data": {
      "text/plain": [
       "(3, 1.0)"
      ]
     },
     "execution_count": 29,
     "metadata": {},
     "output_type": "execute_result"
    }
   ],
   "source": [
    "pred, err = predict(pruned_ce_tree, sample)\n",
    "print(pred)"
   ]
  },
  {
   "cell_type": "markdown",
   "metadata": {},
   "source": [
    "# 7. Traversing a regression tree and a class label being assigned"
   ]
  },
  {
   "cell_type": "code",
   "execution_count": 23,
   "metadata": {},
   "outputs": [
    {
     "data": {
      "text/plain": [
       "MYCT        29\n",
       "MMIN      8000\n",
       "MMAX     16000\n",
       "CACH        32\n",
       "CHMIN        8\n",
       "CHMAX       16\n",
       "Name: 4, dtype: int64"
      ]
     },
     "metadata": {},
     "output_type": "display_data"
    },
    {
     "data": {
      "text/plain": [
       "132"
      ]
     },
     "metadata": {},
     "output_type": "display_data"
    }
   ],
   "source": [
    "sample = com_test_features.iloc[0]\n",
    "display(sample)\n",
    "display(com_test_labels.iloc[0])"
   ]
  },
  {
   "cell_type": "code",
   "execution_count": 24,
   "metadata": {},
   "outputs": [
    {
     "name": "stdout",
     "output_type": "stream",
     "text": [
      "MMIN\n",
      "feature: MMIN\n",
      "observed value: 8000\n"
     ]
    },
    {
     "data": {
      "text/plain": [
       "(77.27777777777777, 665.2006172839507)"
      ]
     },
     "execution_count": 24,
     "metadata": {},
     "output_type": "execute_result"
    }
   ],
   "source": [
    "pred, err = predict(pruned_com_tree, sample)\n",
    "print(pred)"
   ]
  }
 ],
 "metadata": {
  "kernelspec": {
   "display_name": "Python 3",
   "language": "python",
   "name": "python3"
  },
  "language_info": {
   "codemirror_mode": {
    "name": "ipython",
    "version": 3
   },
   "file_extension": ".py",
   "mimetype": "text/x-python",
   "name": "python",
   "nbconvert_exporter": "python",
   "pygments_lexer": "ipython3",
   "version": "3.12.0"
  }
 },
 "nbformat": 4,
 "nbformat_minor": 2
}
