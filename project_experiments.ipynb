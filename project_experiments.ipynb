{
 "cells": [
  {
   "cell_type": "code",
   "execution_count": 1,
   "metadata": {},
   "outputs": [],
   "source": [
    "import warnings\n",
    "warnings.filterwarnings('ignore')\n",
    "\n",
    "import numpy as np\n",
    "import pandas as pd\n",
    "from ML_Data import ML_Data"
   ]
  },
  {
   "cell_type": "markdown",
   "metadata": {},
   "source": [
    "# Breast Cancer \n",
    "Classification Numeric -> Categorical"
   ]
  },
  {
   "cell_type": "code",
   "execution_count": 2,
   "metadata": {},
   "outputs": [
    {
     "data": {
      "text/html": [
       "<div>\n",
       "<style scoped>\n",
       "    .dataframe tbody tr th:only-of-type {\n",
       "        vertical-align: middle;\n",
       "    }\n",
       "\n",
       "    .dataframe tbody tr th {\n",
       "        vertical-align: top;\n",
       "    }\n",
       "\n",
       "    .dataframe thead th {\n",
       "        text-align: right;\n",
       "    }\n",
       "</style>\n",
       "<table border=\"1\" class=\"dataframe\">\n",
       "  <thead>\n",
       "    <tr style=\"text-align: right;\">\n",
       "      <th></th>\n",
       "      <th>Sample code number</th>\n",
       "      <th>Clump Thickness</th>\n",
       "      <th>Uniformity of Cell Size</th>\n",
       "      <th>Uniformity of Cell Shape</th>\n",
       "      <th>Marginal Adhesion</th>\n",
       "      <th>Single Epithelial Cell Size</th>\n",
       "      <th>Bare Nuclei</th>\n",
       "      <th>Bland Chromatin</th>\n",
       "      <th>Normal Nucleoli</th>\n",
       "      <th>Mitoses</th>\n",
       "      <th>Class</th>\n",
       "    </tr>\n",
       "  </thead>\n",
       "  <tbody>\n",
       "    <tr>\n",
       "      <th>0</th>\n",
       "      <td>1000025</td>\n",
       "      <td>5</td>\n",
       "      <td>1</td>\n",
       "      <td>1</td>\n",
       "      <td>1</td>\n",
       "      <td>0</td>\n",
       "      <td>1</td>\n",
       "      <td>3</td>\n",
       "      <td>1</td>\n",
       "      <td>1</td>\n",
       "      <td>0</td>\n",
       "    </tr>\n",
       "    <tr>\n",
       "      <th>1</th>\n",
       "      <td>1002945</td>\n",
       "      <td>5</td>\n",
       "      <td>1</td>\n",
       "      <td>1</td>\n",
       "      <td>5</td>\n",
       "      <td>7</td>\n",
       "      <td>10</td>\n",
       "      <td>3</td>\n",
       "      <td>0</td>\n",
       "      <td>1</td>\n",
       "      <td>0</td>\n",
       "    </tr>\n",
       "    <tr>\n",
       "      <th>2</th>\n",
       "      <td>1015425</td>\n",
       "      <td>3</td>\n",
       "      <td>1</td>\n",
       "      <td>1</td>\n",
       "      <td>1</td>\n",
       "      <td>0</td>\n",
       "      <td>2</td>\n",
       "      <td>3</td>\n",
       "      <td>1</td>\n",
       "      <td>1</td>\n",
       "      <td>0</td>\n",
       "    </tr>\n",
       "    <tr>\n",
       "      <th>3</th>\n",
       "      <td>1016277</td>\n",
       "      <td>6</td>\n",
       "      <td>8</td>\n",
       "      <td>8</td>\n",
       "      <td>1</td>\n",
       "      <td>3</td>\n",
       "      <td>4</td>\n",
       "      <td>3</td>\n",
       "      <td>7</td>\n",
       "      <td>1</td>\n",
       "      <td>0</td>\n",
       "    </tr>\n",
       "    <tr>\n",
       "      <th>4</th>\n",
       "      <td>1017023</td>\n",
       "      <td>1</td>\n",
       "      <td>1</td>\n",
       "      <td>1</td>\n",
       "      <td>3</td>\n",
       "      <td>0</td>\n",
       "      <td>1</td>\n",
       "      <td>3</td>\n",
       "      <td>1</td>\n",
       "      <td>1</td>\n",
       "      <td>0</td>\n",
       "    </tr>\n",
       "  </tbody>\n",
       "</table>\n",
       "</div>"
      ],
      "text/plain": [
       "   Sample code number  Clump Thickness  Uniformity of Cell Size  \\\n",
       "0             1000025                5                        1   \n",
       "1             1002945                5                        1   \n",
       "2             1015425                3                        1   \n",
       "3             1016277                6                        8   \n",
       "4             1017023                1                        1   \n",
       "\n",
       "   Uniformity of Cell Shape  Marginal Adhesion  Single Epithelial Cell Size  \\\n",
       "0                         1                  1                            0   \n",
       "1                         1                  5                            7   \n",
       "2                         1                  1                            0   \n",
       "3                         8                  1                            3   \n",
       "4                         1                  3                            0   \n",
       "\n",
       "   Bare Nuclei  Bland Chromatin   Normal Nucleoli  Mitoses  Class  \n",
       "0            1                 3                1        1      0  \n",
       "1           10                 3                0        1      0  \n",
       "2            2                 3                1        1      0  \n",
       "3            4                 3                7        1      0  \n",
       "4            1                 3                1        1      0  "
      ]
     },
     "metadata": {},
     "output_type": "display_data"
    },
    {
     "data": {
      "text/plain": [
       "(699, 11)"
      ]
     },
     "execution_count": 2,
     "metadata": {},
     "output_type": "execute_result"
    }
   ],
   "source": [
    "headers = ['Sample code number', 'Clump Thickness', 'Uniformity of Cell Size', 'Uniformity of Cell Shape', 'Marginal Adhesion', 'Single Epithelial Cell Size', 'Bare Nuclei', 'Bland Chromatin ', 'Normal Nucleoli', 'Mitoses', 'Class']\n",
    "target = 'Class'\n",
    "breast_cancer = ML_Data('data/breast+cancer+wisconsin+original/breast-cancer-wisconsin.data', headers)\n",
    "breast_cancer.data = breast_cancer.replace_categories(dict({2:0, 4:1}))\n",
    "breast_cancer.data = breast_cancer.replace_missing('?', int_val = True)\n",
    "display(breast_cancer.data.head())\n",
    "train1s, train2s, kx2tests = breast_cancer.crossvalid_kx2(5)\n",
    "breast_cancer.data.shape"
   ]
  },
  {
   "cell_type": "markdown",
   "metadata": {},
   "source": [
    "## Null Model"
   ]
  },
  {
   "cell_type": "code",
   "execution_count": 3,
   "metadata": {},
   "outputs": [
    {
     "name": "stdout",
     "output_type": "stream",
     "text": [
      "Classifier Score: 0.6214285714285716\n"
     ]
    }
   ],
   "source": [
    "train1s, train2s, tests = breast_cancer.kx2_classify(target, 5)"
   ]
  },
  {
   "cell_type": "code",
   "execution_count": 5,
   "metadata": {},
   "outputs": [
    {
     "data": {
      "text/html": [
       "<div>\n",
       "<style scoped>\n",
       "    .dataframe tbody tr th:only-of-type {\n",
       "        vertical-align: middle;\n",
       "    }\n",
       "\n",
       "    .dataframe tbody tr th {\n",
       "        vertical-align: top;\n",
       "    }\n",
       "\n",
       "    .dataframe thead th {\n",
       "        text-align: right;\n",
       "    }\n",
       "</style>\n",
       "<table border=\"1\" class=\"dataframe\">\n",
       "  <thead>\n",
       "    <tr style=\"text-align: right;\">\n",
       "      <th></th>\n",
       "      <th>Full tree accuracy</th>\n",
       "      <th>Pruned tree accuracy</th>\n",
       "      <th>Full tree parent nodes</th>\n",
       "      <th>Pruned tree parent nodes</th>\n",
       "    </tr>\n",
       "  </thead>\n",
       "  <tbody>\n",
       "    <tr>\n",
       "      <th>0</th>\n",
       "      <td>0.953571</td>\n",
       "      <td>0.953571</td>\n",
       "      <td>202</td>\n",
       "      <td>202</td>\n",
       "    </tr>\n",
       "    <tr>\n",
       "      <th>1</th>\n",
       "      <td>0.960714</td>\n",
       "      <td>0.960714</td>\n",
       "      <td>203</td>\n",
       "      <td>203</td>\n",
       "    </tr>\n",
       "    <tr>\n",
       "      <th>2</th>\n",
       "      <td>0.925000</td>\n",
       "      <td>0.942857</td>\n",
       "      <td>189</td>\n",
       "      <td>101</td>\n",
       "    </tr>\n",
       "    <tr>\n",
       "      <th>3</th>\n",
       "      <td>0.953571</td>\n",
       "      <td>0.953571</td>\n",
       "      <td>195</td>\n",
       "      <td>195</td>\n",
       "    </tr>\n",
       "    <tr>\n",
       "      <th>4</th>\n",
       "      <td>0.928571</td>\n",
       "      <td>0.950000</td>\n",
       "      <td>196</td>\n",
       "      <td>188</td>\n",
       "    </tr>\n",
       "  </tbody>\n",
       "</table>\n",
       "</div>"
      ],
      "text/plain": [
       "   Full tree accuracy  Pruned tree accuracy  Full tree parent nodes  \\\n",
       "0            0.953571              0.953571                     202   \n",
       "1            0.960714              0.960714                     203   \n",
       "2            0.925000              0.942857                     189   \n",
       "3            0.953571              0.953571                     195   \n",
       "4            0.928571              0.950000                     196   \n",
       "\n",
       "   Pruned tree parent nodes  \n",
       "0                       202  \n",
       "1                       203  \n",
       "2                       101  \n",
       "3                       195  \n",
       "4                       188  "
      ]
     },
     "metadata": {},
     "output_type": "display_data"
    },
    {
     "name": "stdout",
     "output_type": "stream",
     "text": [
      "Full tree accuracy            0.944286\n",
      "Pruned tree accuracy          0.952143\n",
      "Full tree parent nodes      197.000000\n",
      "Pruned tree parent nodes    177.800000\n",
      "dtype: float64\n"
     ]
    }
   ],
   "source": [
    "full_acc = []\n",
    "pruned_acc = []\n",
    "full_tree_size = []\n",
    "pruned_tree_size = []\n",
    "\n",
    "for i in range(5):\n",
    "    train_features = train1s[i].drop(['Sample code number', target], axis = 1)\n",
    "    train_labels = train1s[i][target]\n",
    "    test_features = train2s[i].drop(['Sample code number', target], axis = 1)\n",
    "    test_labels = train2s[i][target]\n",
    "    prune_features = kx2tests[i].drop(['Sample code number', target], axis = 1)\n",
    "    prune_labels = kx2tests[i][target]\n",
    "    \n",
    "    bc_tree = breast_cancer.Generate_Tree(train_features[[]], train_features, train_labels, theta=0)\n",
    "    acc, preds = breast_cancer.evaluate_tree(bc_tree, test_features, test_labels, classify=True)\n",
    "    full_acc.append(acc)\n",
    "    pruned_bc_tree = breast_cancer.iter_prune(bc_tree, prune_features, prune_labels, classify=True)\n",
    "    acc, preds = breast_cancer.evaluate_tree(pruned_bc_tree, test_features, test_labels, classify=True)\n",
    "    pruned_acc.append(acc)\n",
    "    full_tree_size.append(len(breast_cancer.vertices(bc_tree, location=[], node_list=[])))\n",
    "    pruned_tree_size.append(len(breast_cancer.vertices(pruned_bc_tree, location=[], node_list=[])))\n",
    "\n",
    "results = pd.DataFrame({'Full tree accuracy': full_acc, 'Pruned tree accuracy': pruned_acc, 'Full tree parent nodes': full_tree_size, 'Pruned tree parent nodes': pruned_tree_size})\n",
    "display(results)\n",
    "print(results.mean())"
   ]
  },
  {
   "cell_type": "code",
   "execution_count": 6,
   "metadata": {},
   "outputs": [
    {
     "name": "stdout",
     "output_type": "stream",
     "text": [
      "Clump Thickness\n",
      "[6.5]\n"
     ]
    }
   ],
   "source": [
    "print(bc_tree.feature_name)\n",
    "print(bc_tree.keys)"
   ]
  },
  {
   "cell_type": "markdown",
   "metadata": {},
   "source": [
    "# Car Evaluation\n",
    "Classification categorical -> categorical"
   ]
  },
  {
   "cell_type": "code",
   "execution_count": 7,
   "metadata": {},
   "outputs": [
    {
     "data": {
      "text/html": [
       "<div>\n",
       "<style scoped>\n",
       "    .dataframe tbody tr th:only-of-type {\n",
       "        vertical-align: middle;\n",
       "    }\n",
       "\n",
       "    .dataframe tbody tr th {\n",
       "        vertical-align: top;\n",
       "    }\n",
       "\n",
       "    .dataframe thead th {\n",
       "        text-align: right;\n",
       "    }\n",
       "</style>\n",
       "<table border=\"1\" class=\"dataframe\">\n",
       "  <thead>\n",
       "    <tr style=\"text-align: right;\">\n",
       "      <th></th>\n",
       "      <th>buying</th>\n",
       "      <th>maint</th>\n",
       "      <th>doors</th>\n",
       "      <th>persons</th>\n",
       "      <th>lug_boot</th>\n",
       "      <th>safety</th>\n",
       "      <th>class</th>\n",
       "    </tr>\n",
       "  </thead>\n",
       "  <tbody>\n",
       "    <tr>\n",
       "      <th>0</th>\n",
       "      <td>3</td>\n",
       "      <td>3</td>\n",
       "      <td>0</td>\n",
       "      <td>0</td>\n",
       "      <td>0</td>\n",
       "      <td>0</td>\n",
       "      <td>0</td>\n",
       "    </tr>\n",
       "    <tr>\n",
       "      <th>1</th>\n",
       "      <td>3</td>\n",
       "      <td>3</td>\n",
       "      <td>0</td>\n",
       "      <td>0</td>\n",
       "      <td>0</td>\n",
       "      <td>1</td>\n",
       "      <td>0</td>\n",
       "    </tr>\n",
       "    <tr>\n",
       "      <th>2</th>\n",
       "      <td>3</td>\n",
       "      <td>3</td>\n",
       "      <td>0</td>\n",
       "      <td>0</td>\n",
       "      <td>0</td>\n",
       "      <td>2</td>\n",
       "      <td>0</td>\n",
       "    </tr>\n",
       "    <tr>\n",
       "      <th>3</th>\n",
       "      <td>3</td>\n",
       "      <td>3</td>\n",
       "      <td>0</td>\n",
       "      <td>0</td>\n",
       "      <td>1</td>\n",
       "      <td>0</td>\n",
       "      <td>0</td>\n",
       "    </tr>\n",
       "    <tr>\n",
       "      <th>4</th>\n",
       "      <td>3</td>\n",
       "      <td>3</td>\n",
       "      <td>0</td>\n",
       "      <td>0</td>\n",
       "      <td>1</td>\n",
       "      <td>1</td>\n",
       "      <td>0</td>\n",
       "    </tr>\n",
       "  </tbody>\n",
       "</table>\n",
       "</div>"
      ],
      "text/plain": [
       "   buying  maint  doors  persons  lug_boot  safety  class\n",
       "0       3      3      0        0         0       0      0\n",
       "1       3      3      0        0         0       1      0\n",
       "2       3      3      0        0         0       2      0\n",
       "3       3      3      0        0         1       0      0\n",
       "4       3      3      0        0         1       1      0"
      ]
     },
     "metadata": {},
     "output_type": "display_data"
    },
    {
     "data": {
      "text/plain": [
       "(1728, 7)"
      ]
     },
     "execution_count": 7,
     "metadata": {},
     "output_type": "execute_result"
    }
   ],
   "source": [
    "headers = ['buying', 'maint', 'doors', 'persons', 'lug_boot', 'safety', 'class']\n",
    "target = 'class'\n",
    "careval = ML_Data('data/car+evaluation/car.data', headers)\n",
    "careval.data = careval.replace_categories(dict({'low':0, 'med': 1, 'high':2, 'vhigh':3, 'small': 0, 'big': 2, 'unacc': 0, 'acc': 1, 'good': 2, 'vgood': 3}))\n",
    "careval.data = careval.replace_categories(dict({'2':0, '3':1, '4':2, '5more': 3}), columns=['doors'])\n",
    "careval.data = careval.replace_categories(dict({'2':0, '4':1, 'more': 2}), columns=['persons'])\n",
    "display(careval.data.head())\n",
    "train1s, train2s, kx2tests = careval.crossvalid_kx2(5)\n",
    "careval.data.shape\n"
   ]
  },
  {
   "cell_type": "markdown",
   "metadata": {},
   "source": [
    "## Null Model"
   ]
  },
  {
   "cell_type": "code",
   "execution_count": 8,
   "metadata": {},
   "outputs": [
    {
     "name": "stdout",
     "output_type": "stream",
     "text": [
      "Classifier Score: 0.723121387283237\n"
     ]
    }
   ],
   "source": [
    "train1s, train2s, tests = careval.kx2_classify(target, 5)"
   ]
  },
  {
   "cell_type": "code",
   "execution_count": 10,
   "metadata": {},
   "outputs": [
    {
     "data": {
      "text/html": [
       "<div>\n",
       "<style scoped>\n",
       "    .dataframe tbody tr th:only-of-type {\n",
       "        vertical-align: middle;\n",
       "    }\n",
       "\n",
       "    .dataframe tbody tr th {\n",
       "        vertical-align: top;\n",
       "    }\n",
       "\n",
       "    .dataframe thead th {\n",
       "        text-align: right;\n",
       "    }\n",
       "</style>\n",
       "<table border=\"1\" class=\"dataframe\">\n",
       "  <thead>\n",
       "    <tr style=\"text-align: right;\">\n",
       "      <th></th>\n",
       "      <th>Full tree accuracy</th>\n",
       "      <th>Pruned tree accuracy</th>\n",
       "      <th>Full tree parent nodes</th>\n",
       "      <th>Pruned tree parent nodes</th>\n",
       "    </tr>\n",
       "  </thead>\n",
       "  <tbody>\n",
       "    <tr>\n",
       "      <th>0</th>\n",
       "      <td>0.894356</td>\n",
       "      <td>0.894356</td>\n",
       "      <td>417</td>\n",
       "      <td>409</td>\n",
       "    </tr>\n",
       "    <tr>\n",
       "      <th>1</th>\n",
       "      <td>0.885673</td>\n",
       "      <td>0.890014</td>\n",
       "      <td>408</td>\n",
       "      <td>406</td>\n",
       "    </tr>\n",
       "    <tr>\n",
       "      <th>2</th>\n",
       "      <td>0.897250</td>\n",
       "      <td>0.904486</td>\n",
       "      <td>401</td>\n",
       "      <td>391</td>\n",
       "    </tr>\n",
       "    <tr>\n",
       "      <th>3</th>\n",
       "      <td>0.908828</td>\n",
       "      <td>0.911722</td>\n",
       "      <td>401</td>\n",
       "      <td>397</td>\n",
       "    </tr>\n",
       "    <tr>\n",
       "      <th>4</th>\n",
       "      <td>0.913169</td>\n",
       "      <td>0.913169</td>\n",
       "      <td>405</td>\n",
       "      <td>398</td>\n",
       "    </tr>\n",
       "  </tbody>\n",
       "</table>\n",
       "</div>"
      ],
      "text/plain": [
       "   Full tree accuracy  Pruned tree accuracy  Full tree parent nodes  \\\n",
       "0            0.894356              0.894356                     417   \n",
       "1            0.885673              0.890014                     408   \n",
       "2            0.897250              0.904486                     401   \n",
       "3            0.908828              0.911722                     401   \n",
       "4            0.913169              0.913169                     405   \n",
       "\n",
       "   Pruned tree parent nodes  \n",
       "0                       409  \n",
       "1                       406  \n",
       "2                       391  \n",
       "3                       397  \n",
       "4                       398  "
      ]
     },
     "metadata": {},
     "output_type": "display_data"
    },
    {
     "name": "stdout",
     "output_type": "stream",
     "text": [
      "Full tree accuracy            0.899855\n",
      "Pruned tree accuracy          0.902750\n",
      "Full tree parent nodes      406.400000\n",
      "Pruned tree parent nodes    400.200000\n",
      "dtype: float64\n"
     ]
    }
   ],
   "source": [
    "full_acc = []\n",
    "pruned_acc = []\n",
    "full_tree_size = []\n",
    "pruned_tree_size = []\n",
    "\n",
    "for i in range(5):\n",
    "    train_features = train1s[i].drop([target], axis = 1)\n",
    "    train_labels = train1s[i][target]\n",
    "    test_features = train2s[i].drop([target], axis = 1)\n",
    "    test_labels = train2s[i][target]\n",
    "    prune_features = kx2tests[i].drop([target], axis = 1)\n",
    "    prune_labels = kx2tests[i][target]\n",
    "    \n",
    "    ce_tree = careval.Generate_Tree(train_features, train_features[[]], train_labels, theta=0)\n",
    "    acc, preds = careval.evaluate_tree(ce_tree, test_features, test_labels, classify=True)\n",
    "    full_acc.append(acc)\n",
    "    pruned_ce_tree = careval.iter_prune(ce_tree, prune_features, prune_labels, classify=True)\n",
    "    acc, preds = careval.evaluate_tree(pruned_ce_tree, test_features, test_labels, classify=True)\n",
    "    pruned_acc.append(acc)\n",
    "    full_tree_size.append(len(careval.vertices(ce_tree, location=[], node_list=[])))\n",
    "    pruned_tree_size.append(len(careval.vertices(pruned_ce_tree, location=[], node_list=[])))\n",
    "\n",
    "results = pd.DataFrame({'Full tree accuracy': full_acc, 'Pruned tree accuracy': pruned_acc, 'Full tree parent nodes': full_tree_size, 'Pruned tree parent nodes': pruned_tree_size})\n",
    "display(results)\n",
    "print(results.mean())"
   ]
  },
  {
   "cell_type": "code",
   "execution_count": 11,
   "metadata": {},
   "outputs": [
    {
     "name": "stdout",
     "output_type": "stream",
     "text": [
      "safety\n",
      "[0, 2, 1]\n"
     ]
    }
   ],
   "source": [
    "print(ce_tree.feature_name)\n",
    "print(ce_tree.keys)"
   ]
  },
  {
   "cell_type": "markdown",
   "metadata": {},
   "source": [
    "# House Votes\n",
    "Classification categorical -> categorical"
   ]
  },
  {
   "cell_type": "code",
   "execution_count": 12,
   "metadata": {},
   "outputs": [
    {
     "data": {
      "text/html": [
       "<div>\n",
       "<style scoped>\n",
       "    .dataframe tbody tr th:only-of-type {\n",
       "        vertical-align: middle;\n",
       "    }\n",
       "\n",
       "    .dataframe tbody tr th {\n",
       "        vertical-align: top;\n",
       "    }\n",
       "\n",
       "    .dataframe thead th {\n",
       "        text-align: right;\n",
       "    }\n",
       "</style>\n",
       "<table border=\"1\" class=\"dataframe\">\n",
       "  <thead>\n",
       "    <tr style=\"text-align: right;\">\n",
       "      <th></th>\n",
       "      <th>republican</th>\n",
       "      <th>handicapped_infants</th>\n",
       "      <th>water_project_cost_sharing</th>\n",
       "      <th>budget_resolution</th>\n",
       "      <th>physician_fee_freeze</th>\n",
       "      <th>el_salvador_aid</th>\n",
       "      <th>religious_groups_in_schools</th>\n",
       "      <th>anti_satellite_test_ban</th>\n",
       "      <th>aid_nicaragua_contras</th>\n",
       "      <th>mx_missile</th>\n",
       "      <th>immigration</th>\n",
       "      <th>synfuels_corporation_cutback</th>\n",
       "      <th>education_spending</th>\n",
       "      <th>superfund_right_to_sue</th>\n",
       "      <th>crime</th>\n",
       "      <th>duty_free_exports</th>\n",
       "      <th>export_admin_act_south_africa</th>\n",
       "    </tr>\n",
       "  </thead>\n",
       "  <tbody>\n",
       "    <tr>\n",
       "      <th>0</th>\n",
       "      <td>1</td>\n",
       "      <td>0</td>\n",
       "      <td>1</td>\n",
       "      <td>0</td>\n",
       "      <td>1</td>\n",
       "      <td>1</td>\n",
       "      <td>1</td>\n",
       "      <td>0</td>\n",
       "      <td>0</td>\n",
       "      <td>0</td>\n",
       "      <td>1</td>\n",
       "      <td>0</td>\n",
       "      <td>1</td>\n",
       "      <td>1</td>\n",
       "      <td>1</td>\n",
       "      <td>0</td>\n",
       "      <td>1</td>\n",
       "    </tr>\n",
       "    <tr>\n",
       "      <th>1</th>\n",
       "      <td>1</td>\n",
       "      <td>0</td>\n",
       "      <td>1</td>\n",
       "      <td>0</td>\n",
       "      <td>1</td>\n",
       "      <td>1</td>\n",
       "      <td>1</td>\n",
       "      <td>0</td>\n",
       "      <td>0</td>\n",
       "      <td>0</td>\n",
       "      <td>0</td>\n",
       "      <td>0</td>\n",
       "      <td>1</td>\n",
       "      <td>1</td>\n",
       "      <td>1</td>\n",
       "      <td>0</td>\n",
       "      <td>1</td>\n",
       "    </tr>\n",
       "    <tr>\n",
       "      <th>2</th>\n",
       "      <td>0</td>\n",
       "      <td>0</td>\n",
       "      <td>1</td>\n",
       "      <td>1</td>\n",
       "      <td>0</td>\n",
       "      <td>1</td>\n",
       "      <td>1</td>\n",
       "      <td>0</td>\n",
       "      <td>0</td>\n",
       "      <td>0</td>\n",
       "      <td>0</td>\n",
       "      <td>1</td>\n",
       "      <td>0</td>\n",
       "      <td>1</td>\n",
       "      <td>1</td>\n",
       "      <td>0</td>\n",
       "      <td>0</td>\n",
       "    </tr>\n",
       "    <tr>\n",
       "      <th>3</th>\n",
       "      <td>0</td>\n",
       "      <td>0</td>\n",
       "      <td>1</td>\n",
       "      <td>1</td>\n",
       "      <td>0</td>\n",
       "      <td>1</td>\n",
       "      <td>1</td>\n",
       "      <td>0</td>\n",
       "      <td>0</td>\n",
       "      <td>0</td>\n",
       "      <td>0</td>\n",
       "      <td>1</td>\n",
       "      <td>0</td>\n",
       "      <td>1</td>\n",
       "      <td>0</td>\n",
       "      <td>0</td>\n",
       "      <td>1</td>\n",
       "    </tr>\n",
       "    <tr>\n",
       "      <th>4</th>\n",
       "      <td>0</td>\n",
       "      <td>1</td>\n",
       "      <td>1</td>\n",
       "      <td>1</td>\n",
       "      <td>0</td>\n",
       "      <td>1</td>\n",
       "      <td>1</td>\n",
       "      <td>0</td>\n",
       "      <td>0</td>\n",
       "      <td>0</td>\n",
       "      <td>0</td>\n",
       "      <td>1</td>\n",
       "      <td>0</td>\n",
       "      <td>1</td>\n",
       "      <td>1</td>\n",
       "      <td>1</td>\n",
       "      <td>1</td>\n",
       "    </tr>\n",
       "  </tbody>\n",
       "</table>\n",
       "</div>"
      ],
      "text/plain": [
       "   republican  handicapped_infants  water_project_cost_sharing  \\\n",
       "0           1                    0                           1   \n",
       "1           1                    0                           1   \n",
       "2           0                    0                           1   \n",
       "3           0                    0                           1   \n",
       "4           0                    1                           1   \n",
       "\n",
       "   budget_resolution  physician_fee_freeze  el_salvador_aid  \\\n",
       "0                  0                     1                1   \n",
       "1                  0                     1                1   \n",
       "2                  1                     0                1   \n",
       "3                  1                     0                1   \n",
       "4                  1                     0                1   \n",
       "\n",
       "   religious_groups_in_schools  anti_satellite_test_ban  \\\n",
       "0                            1                        0   \n",
       "1                            1                        0   \n",
       "2                            1                        0   \n",
       "3                            1                        0   \n",
       "4                            1                        0   \n",
       "\n",
       "   aid_nicaragua_contras  mx_missile  immigration  \\\n",
       "0                      0           0            1   \n",
       "1                      0           0            0   \n",
       "2                      0           0            0   \n",
       "3                      0           0            0   \n",
       "4                      0           0            0   \n",
       "\n",
       "   synfuels_corporation_cutback  education_spending  superfund_right_to_sue  \\\n",
       "0                             0                   1                       1   \n",
       "1                             0                   1                       1   \n",
       "2                             1                   0                       1   \n",
       "3                             1                   0                       1   \n",
       "4                             1                   0                       1   \n",
       "\n",
       "   crime  duty_free_exports  export_admin_act_south_africa  \n",
       "0      1                  0                              1  \n",
       "1      1                  0                              1  \n",
       "2      1                  0                              0  \n",
       "3      0                  0                              1  \n",
       "4      1                  1                              1  "
      ]
     },
     "metadata": {},
     "output_type": "display_data"
    },
    {
     "data": {
      "text/plain": [
       "(435, 17)"
      ]
     },
     "execution_count": 12,
     "metadata": {},
     "output_type": "execute_result"
    }
   ],
   "source": [
    "headers = ['republican', 'handicapped_infants', 'water_project_cost_sharing', 'budget_resolution', 'physician_fee_freeze', 'el_salvador_aid', \\\n",
    "           'religious_groups_in_schools', 'anti_satellite_test_ban', 'aid_nicaragua_contras', 'mx_missile', 'immigration', 'synfuels_corporation_cutback', \\\n",
    "            'education_spending', 'superfund_right_to_sue', 'crime', 'duty_free_exports', 'export_admin_act_south_africa']\n",
    "target = 'republican'\n",
    "housevotes = ML_Data('data/congressional+voting+records/house-votes-84.data', headers)\n",
    "housevotes.data = housevotes.replace_categories(dict({'n':0, 'y':1, 'democrat':0, 'republican':1}))\n",
    "housevotes.data = housevotes.replace_missing('?', int_val = True)\n",
    "display(housevotes.data.head())\n",
    "train1s, train2s, kx2tests = housevotes.crossvalid_kx2(5)\n",
    "housevotes.data.shape"
   ]
  },
  {
   "cell_type": "markdown",
   "metadata": {},
   "source": [
    "## Null Model"
   ]
  },
  {
   "cell_type": "code",
   "execution_count": 13,
   "metadata": {},
   "outputs": [
    {
     "name": "stdout",
     "output_type": "stream",
     "text": [
      "Classifier Score: 0.5954022988505747\n"
     ]
    }
   ],
   "source": [
    "train1s, train2s, tests = housevotes.kx2_classify(target, 5)"
   ]
  },
  {
   "cell_type": "code",
   "execution_count": 14,
   "metadata": {},
   "outputs": [
    {
     "data": {
      "text/html": [
       "<div>\n",
       "<style scoped>\n",
       "    .dataframe tbody tr th:only-of-type {\n",
       "        vertical-align: middle;\n",
       "    }\n",
       "\n",
       "    .dataframe tbody tr th {\n",
       "        vertical-align: top;\n",
       "    }\n",
       "\n",
       "    .dataframe thead th {\n",
       "        text-align: right;\n",
       "    }\n",
       "</style>\n",
       "<table border=\"1\" class=\"dataframe\">\n",
       "  <thead>\n",
       "    <tr style=\"text-align: right;\">\n",
       "      <th></th>\n",
       "      <th>Full tree accuracy</th>\n",
       "      <th>Pruned tree accuracy</th>\n",
       "      <th>Full tree parent nodes</th>\n",
       "      <th>Pruned tree parent nodes</th>\n",
       "    </tr>\n",
       "  </thead>\n",
       "  <tbody>\n",
       "    <tr>\n",
       "      <th>0</th>\n",
       "      <td>0.954023</td>\n",
       "      <td>0.954023</td>\n",
       "      <td>138</td>\n",
       "      <td>138</td>\n",
       "    </tr>\n",
       "    <tr>\n",
       "      <th>1</th>\n",
       "      <td>0.936782</td>\n",
       "      <td>0.936782</td>\n",
       "      <td>118</td>\n",
       "      <td>118</td>\n",
       "    </tr>\n",
       "    <tr>\n",
       "      <th>2</th>\n",
       "      <td>0.896552</td>\n",
       "      <td>0.936782</td>\n",
       "      <td>130</td>\n",
       "      <td>49</td>\n",
       "    </tr>\n",
       "    <tr>\n",
       "      <th>3</th>\n",
       "      <td>0.965517</td>\n",
       "      <td>0.959770</td>\n",
       "      <td>132</td>\n",
       "      <td>53</td>\n",
       "    </tr>\n",
       "    <tr>\n",
       "      <th>4</th>\n",
       "      <td>0.948276</td>\n",
       "      <td>0.948276</td>\n",
       "      <td>132</td>\n",
       "      <td>132</td>\n",
       "    </tr>\n",
       "  </tbody>\n",
       "</table>\n",
       "</div>"
      ],
      "text/plain": [
       "   Full tree accuracy  Pruned tree accuracy  Full tree parent nodes  \\\n",
       "0            0.954023              0.954023                     138   \n",
       "1            0.936782              0.936782                     118   \n",
       "2            0.896552              0.936782                     130   \n",
       "3            0.965517              0.959770                     132   \n",
       "4            0.948276              0.948276                     132   \n",
       "\n",
       "   Pruned tree parent nodes  \n",
       "0                       138  \n",
       "1                       118  \n",
       "2                        49  \n",
       "3                        53  \n",
       "4                       132  "
      ]
     },
     "metadata": {},
     "output_type": "display_data"
    },
    {
     "name": "stdout",
     "output_type": "stream",
     "text": [
      "Full tree accuracy            0.940230\n",
      "Pruned tree accuracy          0.947126\n",
      "Full tree parent nodes      130.000000\n",
      "Pruned tree parent nodes     98.000000\n",
      "dtype: float64\n"
     ]
    }
   ],
   "source": [
    "full_acc = []\n",
    "pruned_acc = []\n",
    "full_tree_size = []\n",
    "pruned_tree_size = []\n",
    "\n",
    "for i in range(5):\n",
    "    train_features = train1s[i].drop([target], axis = 1)\n",
    "    train_labels = train1s[i][target]\n",
    "    test_features = train2s[i].drop([target], axis = 1)\n",
    "    test_labels = train2s[i][target]\n",
    "    prune_features = kx2tests[i].drop([target], axis = 1)\n",
    "    prune_labels = kx2tests[i][target]\n",
    "    \n",
    "    housevotes_tree = housevotes.Generate_Tree(train_features, train_features[[]], train_labels, theta=0)\n",
    "    acc, preds = housevotes.evaluate_tree(housevotes_tree, test_features, test_labels, classify=True)\n",
    "    full_acc.append(acc)\n",
    "    pruned_tree = housevotes.iter_prune(housevotes_tree, prune_features, prune_labels, classify=True)\n",
    "    acc, preds = housevotes.evaluate_tree(pruned_tree, test_features, test_labels, classify=True)\n",
    "    pruned_acc.append(acc)\n",
    "    full_tree_size.append(len(housevotes.vertices(housevotes_tree, location=[], node_list=[])))\n",
    "    pruned_tree_size.append(len(housevotes.vertices(pruned_tree, location=[], node_list=[])))\n",
    "\n",
    "results = pd.DataFrame({'Full tree accuracy': full_acc, 'Pruned tree accuracy': pruned_acc, 'Full tree parent nodes': full_tree_size, 'Pruned tree parent nodes': pruned_tree_size})\n",
    "display(results)\n",
    "print(results.mean())"
   ]
  },
  {
   "cell_type": "code",
   "execution_count": 15,
   "metadata": {},
   "outputs": [
    {
     "name": "stdout",
     "output_type": "stream",
     "text": [
      "full tree parent nodes: 132\n",
      "pruned tree parent nodes: 132\n"
     ]
    }
   ],
   "source": [
    "print(f'full tree parent nodes: {len(housevotes.vertices(housevotes_tree, location=[], node_list=[]))}')\n",
    "print(f'pruned tree parent nodes: {len(housevotes.vertices(pruned_tree, location=[], node_list=[]))}')"
   ]
  },
  {
   "cell_type": "code",
   "execution_count": 16,
   "metadata": {},
   "outputs": [
    {
     "name": "stdout",
     "output_type": "stream",
     "text": [
      "physician_fee_freeze\n",
      "[1, 0]\n"
     ]
    }
   ],
   "source": [
    "print(housevotes_tree.feature_name)\n",
    "print(housevotes_tree.keys)"
   ]
  },
  {
   "cell_type": "markdown",
   "metadata": {},
   "source": [
    "# Abalone\n",
    "Regression Numeric+Categorical -> Numeric"
   ]
  },
  {
   "cell_type": "code",
   "execution_count": 8,
   "metadata": {},
   "outputs": [
    {
     "data": {
      "text/html": [
       "<div>\n",
       "<style scoped>\n",
       "    .dataframe tbody tr th:only-of-type {\n",
       "        vertical-align: middle;\n",
       "    }\n",
       "\n",
       "    .dataframe tbody tr th {\n",
       "        vertical-align: top;\n",
       "    }\n",
       "\n",
       "    .dataframe thead th {\n",
       "        text-align: right;\n",
       "    }\n",
       "</style>\n",
       "<table border=\"1\" class=\"dataframe\">\n",
       "  <thead>\n",
       "    <tr style=\"text-align: right;\">\n",
       "      <th></th>\n",
       "      <th>Sex</th>\n",
       "      <th>Length</th>\n",
       "      <th>Diameter</th>\n",
       "      <th>Height</th>\n",
       "      <th>Whole weight</th>\n",
       "      <th>Shucked weight</th>\n",
       "      <th>Viscera weight</th>\n",
       "      <th>Shell weight</th>\n",
       "      <th>Rings</th>\n",
       "    </tr>\n",
       "  </thead>\n",
       "  <tbody>\n",
       "    <tr>\n",
       "      <th>0</th>\n",
       "      <td>M</td>\n",
       "      <td>0.455</td>\n",
       "      <td>0.365</td>\n",
       "      <td>0.095</td>\n",
       "      <td>0.5140</td>\n",
       "      <td>0.2245</td>\n",
       "      <td>0.1010</td>\n",
       "      <td>0.150</td>\n",
       "      <td>15</td>\n",
       "    </tr>\n",
       "    <tr>\n",
       "      <th>1</th>\n",
       "      <td>M</td>\n",
       "      <td>0.350</td>\n",
       "      <td>0.265</td>\n",
       "      <td>0.090</td>\n",
       "      <td>0.2255</td>\n",
       "      <td>0.0995</td>\n",
       "      <td>0.0485</td>\n",
       "      <td>0.070</td>\n",
       "      <td>7</td>\n",
       "    </tr>\n",
       "    <tr>\n",
       "      <th>2</th>\n",
       "      <td>F</td>\n",
       "      <td>0.530</td>\n",
       "      <td>0.420</td>\n",
       "      <td>0.135</td>\n",
       "      <td>0.6770</td>\n",
       "      <td>0.2565</td>\n",
       "      <td>0.1415</td>\n",
       "      <td>0.210</td>\n",
       "      <td>9</td>\n",
       "    </tr>\n",
       "    <tr>\n",
       "      <th>3</th>\n",
       "      <td>M</td>\n",
       "      <td>0.440</td>\n",
       "      <td>0.365</td>\n",
       "      <td>0.125</td>\n",
       "      <td>0.5160</td>\n",
       "      <td>0.2155</td>\n",
       "      <td>0.1140</td>\n",
       "      <td>0.155</td>\n",
       "      <td>10</td>\n",
       "    </tr>\n",
       "    <tr>\n",
       "      <th>4</th>\n",
       "      <td>I</td>\n",
       "      <td>0.330</td>\n",
       "      <td>0.255</td>\n",
       "      <td>0.080</td>\n",
       "      <td>0.2050</td>\n",
       "      <td>0.0895</td>\n",
       "      <td>0.0395</td>\n",
       "      <td>0.055</td>\n",
       "      <td>7</td>\n",
       "    </tr>\n",
       "  </tbody>\n",
       "</table>\n",
       "</div>"
      ],
      "text/plain": [
       "  Sex  Length  Diameter  Height  Whole weight  Shucked weight  Viscera weight  \\\n",
       "0   M   0.455     0.365   0.095        0.5140          0.2245          0.1010   \n",
       "1   M   0.350     0.265   0.090        0.2255          0.0995          0.0485   \n",
       "2   F   0.530     0.420   0.135        0.6770          0.2565          0.1415   \n",
       "3   M   0.440     0.365   0.125        0.5160          0.2155          0.1140   \n",
       "4   I   0.330     0.255   0.080        0.2050          0.0895          0.0395   \n",
       "\n",
       "   Shell weight  Rings  \n",
       "0         0.150     15  \n",
       "1         0.070      7  \n",
       "2         0.210      9  \n",
       "3         0.155     10  \n",
       "4         0.055      7  "
      ]
     },
     "metadata": {},
     "output_type": "display_data"
    },
    {
     "data": {
      "text/plain": [
       "(4177, 9)"
      ]
     },
     "execution_count": 8,
     "metadata": {},
     "output_type": "execute_result"
    }
   ],
   "source": [
    "headers = ['Sex', 'Length', 'Diameter', 'Height', 'Whole weight', 'Shucked weight', 'Viscera weight', 'Shell weight', 'Rings']\n",
    "target = 'Rings'\n",
    "abalone = ML_Data('data/abalone/abalone.data', headers)\n",
    "display(abalone.data.head())\n",
    "train1s, train2s, kx2tests = abalone.crossvalid_kx2(5)\n",
    "abalone.data.shape"
   ]
  },
  {
   "cell_type": "markdown",
   "metadata": {},
   "source": [
    "## Null Model"
   ]
  },
  {
   "cell_type": "code",
   "execution_count": 36,
   "metadata": {},
   "outputs": [
    {
     "name": "stdout",
     "output_type": "stream",
     "text": [
      "Baseline StDev: 3.2241690320681284\n",
      "Mean Squared Error: 3.195195272969456\n"
     ]
    }
   ],
   "source": [
    "train1s, train2s, tests = abalone.kx2_regress(target, 5)"
   ]
  },
  {
   "cell_type": "code",
   "execution_count": 9,
   "metadata": {},
   "outputs": [
    {
     "name": "stdout",
     "output_type": "stream",
     "text": [
      "0\n",
      "1\n",
      "2\n",
      "3\n",
      "4\n"
     ]
    },
    {
     "data": {
      "text/html": [
       "<div>\n",
       "<style scoped>\n",
       "    .dataframe tbody tr th:only-of-type {\n",
       "        vertical-align: middle;\n",
       "    }\n",
       "\n",
       "    .dataframe tbody tr th {\n",
       "        vertical-align: top;\n",
       "    }\n",
       "\n",
       "    .dataframe thead th {\n",
       "        text-align: right;\n",
       "    }\n",
       "</style>\n",
       "<table border=\"1\" class=\"dataframe\">\n",
       "  <thead>\n",
       "    <tr style=\"text-align: right;\">\n",
       "      <th></th>\n",
       "      <th>Full tree mse</th>\n",
       "      <th>Pruned tree mse</th>\n",
       "      <th>Full tree parent nodes</th>\n",
       "      <th>Pruned tree parent nodes</th>\n",
       "    </tr>\n",
       "  </thead>\n",
       "  <tbody>\n",
       "    <tr>\n",
       "      <th>0</th>\n",
       "      <td>3.071266</td>\n",
       "      <td>2.695843</td>\n",
       "      <td>1636</td>\n",
       "      <td>2</td>\n",
       "    </tr>\n",
       "    <tr>\n",
       "      <th>1</th>\n",
       "      <td>2.950621</td>\n",
       "      <td>2.794634</td>\n",
       "      <td>1622</td>\n",
       "      <td>2</td>\n",
       "    </tr>\n",
       "    <tr>\n",
       "      <th>2</th>\n",
       "      <td>2.987506</td>\n",
       "      <td>2.647792</td>\n",
       "      <td>1630</td>\n",
       "      <td>1</td>\n",
       "    </tr>\n",
       "    <tr>\n",
       "      <th>3</th>\n",
       "      <td>3.045830</td>\n",
       "      <td>2.696739</td>\n",
       "      <td>1651</td>\n",
       "      <td>1</td>\n",
       "    </tr>\n",
       "    <tr>\n",
       "      <th>4</th>\n",
       "      <td>3.107105</td>\n",
       "      <td>2.598281</td>\n",
       "      <td>1616</td>\n",
       "      <td>1</td>\n",
       "    </tr>\n",
       "  </tbody>\n",
       "</table>\n",
       "</div>"
      ],
      "text/plain": [
       "   Full tree mse  Pruned tree mse  Full tree parent nodes  \\\n",
       "0       3.071266         2.695843                    1636   \n",
       "1       2.950621         2.794634                    1622   \n",
       "2       2.987506         2.647792                    1630   \n",
       "3       3.045830         2.696739                    1651   \n",
       "4       3.107105         2.598281                    1616   \n",
       "\n",
       "   Pruned tree parent nodes  \n",
       "0                         2  \n",
       "1                         2  \n",
       "2                         1  \n",
       "3                         1  \n",
       "4                         1  "
      ]
     },
     "metadata": {},
     "output_type": "display_data"
    },
    {
     "name": "stdout",
     "output_type": "stream",
     "text": [
      "Full tree mse                  3.032466\n",
      "Pruned tree mse                2.686658\n",
      "Full tree parent nodes      1631.000000\n",
      "Pruned tree parent nodes       1.400000\n",
      "dtype: float64\n"
     ]
    }
   ],
   "source": [
    "full_mse = []\n",
    "pruned_mse = []\n",
    "full_tree_size = []\n",
    "pruned_tree_size = []\n",
    "\n",
    "for i in range(5):\n",
    "    print(i)\n",
    "    train_features = train1s[i].drop([target], axis = 1)\n",
    "    train_labels = train1s[i][target]\n",
    "    test_features = train2s[i].drop([target], axis = 1)\n",
    "    test_labels = train2s[i][target]\n",
    "    prune_features = kx2tests[i].drop([target], axis = 1)\n",
    "    prune_labels = kx2tests[i][target]\n",
    "\n",
    "    abalone_tree = abalone.Generate_Tree(train_features[['Sex']], train_features.drop(['Sex'], axis = 1), train_labels, theta = 0, classify=False)\n",
    "    mse, preds = abalone.evaluate_tree(abalone_tree, test_features, test_labels, classify=False)\n",
    "    full_mse.append(mse)\n",
    "    pruned_tree = abalone.iter_prune(abalone_tree, prune_features, prune_labels, classify=False)\n",
    "    mse, preds = abalone.evaluate_tree(pruned_tree, test_features, test_labels, classify=False)\n",
    "    pruned_mse.append(mse)\n",
    "    full_tree_size.append(len(abalone.vertices(abalone_tree, location=[], node_list=[])))\n",
    "    pruned_tree_size.append(len(abalone.vertices(pruned_tree, location=[], node_list=[])))\n",
    "\n",
    "results = pd.DataFrame({'Full tree mse': full_mse, 'Pruned tree mse': pruned_mse, 'Full tree parent nodes': full_tree_size, 'Pruned tree parent nodes': pruned_tree_size})\n",
    "display(results)\n",
    "print(results.mean())"
   ]
  },
  {
   "cell_type": "code",
   "execution_count": 10,
   "metadata": {},
   "outputs": [
    {
     "name": "stdout",
     "output_type": "stream",
     "text": [
      "full tree parent nodes: 1616\n",
      "pruned tree parent nodes: 1\n"
     ]
    }
   ],
   "source": [
    "print(f'full tree parent nodes: {len(abalone.vertices(abalone_tree, location=[], node_list=[]))}')\n",
    "print(f'pruned tree parent nodes: {len(abalone.vertices(pruned_tree, location=[], node_list=[]))}')"
   ]
  },
  {
   "cell_type": "code",
   "execution_count": 11,
   "metadata": {},
   "outputs": [
    {
     "name": "stdout",
     "output_type": "stream",
     "text": [
      "Shell weight\n",
      "[0.159]\n"
     ]
    }
   ],
   "source": [
    "print(abalone_tree.feature_name)\n",
    "print(abalone_tree.keys)"
   ]
  },
  {
   "cell_type": "markdown",
   "metadata": {},
   "source": [
    "# Computer Hardware\n",
    "Regression numeric -> numeric"
   ]
  },
  {
   "cell_type": "code",
   "execution_count": 24,
   "metadata": {},
   "outputs": [
    {
     "data": {
      "text/html": [
       "<div>\n",
       "<style scoped>\n",
       "    .dataframe tbody tr th:only-of-type {\n",
       "        vertical-align: middle;\n",
       "    }\n",
       "\n",
       "    .dataframe tbody tr th {\n",
       "        vertical-align: top;\n",
       "    }\n",
       "\n",
       "    .dataframe thead th {\n",
       "        text-align: right;\n",
       "    }\n",
       "</style>\n",
       "<table border=\"1\" class=\"dataframe\">\n",
       "  <thead>\n",
       "    <tr style=\"text-align: right;\">\n",
       "      <th></th>\n",
       "      <th>Vendor Name</th>\n",
       "      <th>Model Name</th>\n",
       "      <th>MYCT</th>\n",
       "      <th>MMIN</th>\n",
       "      <th>MMAX</th>\n",
       "      <th>CACH</th>\n",
       "      <th>CHMIN</th>\n",
       "      <th>CHMAX</th>\n",
       "      <th>PRP</th>\n",
       "      <th>ERP</th>\n",
       "    </tr>\n",
       "  </thead>\n",
       "  <tbody>\n",
       "    <tr>\n",
       "      <th>0</th>\n",
       "      <td>adviser</td>\n",
       "      <td>32/60</td>\n",
       "      <td>125</td>\n",
       "      <td>256</td>\n",
       "      <td>6000</td>\n",
       "      <td>256</td>\n",
       "      <td>16</td>\n",
       "      <td>128</td>\n",
       "      <td>198</td>\n",
       "      <td>199</td>\n",
       "    </tr>\n",
       "    <tr>\n",
       "      <th>1</th>\n",
       "      <td>amdahl</td>\n",
       "      <td>470v/7</td>\n",
       "      <td>29</td>\n",
       "      <td>8000</td>\n",
       "      <td>32000</td>\n",
       "      <td>32</td>\n",
       "      <td>8</td>\n",
       "      <td>32</td>\n",
       "      <td>269</td>\n",
       "      <td>253</td>\n",
       "    </tr>\n",
       "    <tr>\n",
       "      <th>2</th>\n",
       "      <td>amdahl</td>\n",
       "      <td>470v/7a</td>\n",
       "      <td>29</td>\n",
       "      <td>8000</td>\n",
       "      <td>32000</td>\n",
       "      <td>32</td>\n",
       "      <td>8</td>\n",
       "      <td>32</td>\n",
       "      <td>220</td>\n",
       "      <td>253</td>\n",
       "    </tr>\n",
       "    <tr>\n",
       "      <th>3</th>\n",
       "      <td>amdahl</td>\n",
       "      <td>470v/7b</td>\n",
       "      <td>29</td>\n",
       "      <td>8000</td>\n",
       "      <td>32000</td>\n",
       "      <td>32</td>\n",
       "      <td>8</td>\n",
       "      <td>32</td>\n",
       "      <td>172</td>\n",
       "      <td>253</td>\n",
       "    </tr>\n",
       "    <tr>\n",
       "      <th>4</th>\n",
       "      <td>amdahl</td>\n",
       "      <td>470v/7c</td>\n",
       "      <td>29</td>\n",
       "      <td>8000</td>\n",
       "      <td>16000</td>\n",
       "      <td>32</td>\n",
       "      <td>8</td>\n",
       "      <td>16</td>\n",
       "      <td>132</td>\n",
       "      <td>132</td>\n",
       "    </tr>\n",
       "  </tbody>\n",
       "</table>\n",
       "</div>"
      ],
      "text/plain": [
       "  Vendor Name Model Name  MYCT  MMIN   MMAX  CACH  CHMIN  CHMAX  PRP  ERP\n",
       "0     adviser      32/60   125   256   6000   256     16    128  198  199\n",
       "1      amdahl     470v/7    29  8000  32000    32      8     32  269  253\n",
       "2      amdahl    470v/7a    29  8000  32000    32      8     32  220  253\n",
       "3      amdahl    470v/7b    29  8000  32000    32      8     32  172  253\n",
       "4      amdahl    470v/7c    29  8000  16000    32      8     16  132  132"
      ]
     },
     "metadata": {},
     "output_type": "display_data"
    },
    {
     "data": {
      "text/plain": [
       "(209, 10)"
      ]
     },
     "execution_count": 24,
     "metadata": {},
     "output_type": "execute_result"
    }
   ],
   "source": [
    "headers = ['Vendor Name', 'Model Name', 'MYCT', 'MMIN', 'MMAX', 'CACH', 'CHMIN', 'CHMAX', 'PRP', 'ERP']\n",
    "target = 'PRP'\n",
    "computer = ML_Data('data/computer+hardware/machine.data', headers)\n",
    "display(computer.data.head())\n",
    "train1s, train2s, kx2tests = computer.crossvalid_kx2(5)\n",
    "computer.data.shape"
   ]
  },
  {
   "cell_type": "markdown",
   "metadata": {},
   "source": [
    "## Null Model"
   ]
  },
  {
   "cell_type": "code",
   "execution_count": 26,
   "metadata": {},
   "outputs": [
    {
     "name": "stdout",
     "output_type": "stream",
     "text": [
      "Baseline StDev: 160.83073308779512\n",
      "Mean Squared Error: 136.53197709334034\n"
     ]
    }
   ],
   "source": [
    "train1s, train2s, tests = computer.kx2_regress(target, 5)"
   ]
  },
  {
   "cell_type": "code",
   "execution_count": 28,
   "metadata": {},
   "outputs": [
    {
     "data": {
      "text/html": [
       "<div>\n",
       "<style scoped>\n",
       "    .dataframe tbody tr th:only-of-type {\n",
       "        vertical-align: middle;\n",
       "    }\n",
       "\n",
       "    .dataframe tbody tr th {\n",
       "        vertical-align: top;\n",
       "    }\n",
       "\n",
       "    .dataframe thead th {\n",
       "        text-align: right;\n",
       "    }\n",
       "</style>\n",
       "<table border=\"1\" class=\"dataframe\">\n",
       "  <thead>\n",
       "    <tr style=\"text-align: right;\">\n",
       "      <th></th>\n",
       "      <th>Full tree mse</th>\n",
       "      <th>Pruned tree mse</th>\n",
       "      <th>Full tree parent nodes</th>\n",
       "      <th>Pruned tree parent nodes</th>\n",
       "    </tr>\n",
       "  </thead>\n",
       "  <tbody>\n",
       "    <tr>\n",
       "      <th>0</th>\n",
       "      <td>71.222259</td>\n",
       "      <td>70.605922</td>\n",
       "      <td>79</td>\n",
       "      <td>29</td>\n",
       "    </tr>\n",
       "    <tr>\n",
       "      <th>1</th>\n",
       "      <td>67.445679</td>\n",
       "      <td>65.138966</td>\n",
       "      <td>78</td>\n",
       "      <td>51</td>\n",
       "    </tr>\n",
       "    <tr>\n",
       "      <th>2</th>\n",
       "      <td>145.480955</td>\n",
       "      <td>145.448938</td>\n",
       "      <td>79</td>\n",
       "      <td>40</td>\n",
       "    </tr>\n",
       "    <tr>\n",
       "      <th>3</th>\n",
       "      <td>92.653797</td>\n",
       "      <td>88.675701</td>\n",
       "      <td>81</td>\n",
       "      <td>16</td>\n",
       "    </tr>\n",
       "    <tr>\n",
       "      <th>4</th>\n",
       "      <td>106.236988</td>\n",
       "      <td>107.715267</td>\n",
       "      <td>81</td>\n",
       "      <td>24</td>\n",
       "    </tr>\n",
       "  </tbody>\n",
       "</table>\n",
       "</div>"
      ],
      "text/plain": [
       "   Full tree mse  Pruned tree mse  Full tree parent nodes  \\\n",
       "0      71.222259        70.605922                      79   \n",
       "1      67.445679        65.138966                      78   \n",
       "2     145.480955       145.448938                      79   \n",
       "3      92.653797        88.675701                      81   \n",
       "4     106.236988       107.715267                      81   \n",
       "\n",
       "   Pruned tree parent nodes  \n",
       "0                        29  \n",
       "1                        51  \n",
       "2                        40  \n",
       "3                        16  \n",
       "4                        24  "
      ]
     },
     "metadata": {},
     "output_type": "display_data"
    },
    {
     "name": "stdout",
     "output_type": "stream",
     "text": [
      "Full tree mse               96.607936\n",
      "Pruned tree mse             95.516959\n",
      "Full tree parent nodes      79.600000\n",
      "Pruned tree parent nodes    32.000000\n",
      "dtype: float64\n"
     ]
    }
   ],
   "source": [
    "full_mse = []\n",
    "pruned_mse = []\n",
    "full_tree_size = []\n",
    "pruned_tree_size = []\n",
    "\n",
    "for i in range(5):\n",
    "    train_features = train1s[i].drop(['Vendor Name', 'Model Name', 'ERP', target], axis = 1)\n",
    "    train_labels = train1s[i][target]\n",
    "    test_features = train2s[i].drop(['Vendor Name', 'Model Name', 'ERP', target], axis = 1)\n",
    "    test_labels = train2s[i][target]\n",
    "    prune_features = kx2tests[i].drop(['Vendor Name', 'Model Name', 'ERP', target], axis = 1)\n",
    "    prune_labels = kx2tests[i][target]\n",
    "\n",
    "    computer_tree = computer.Generate_Tree(train_features[[]], train_features, train_labels, theta = 0, classify=False)\n",
    "    mse, preds = computer.evaluate_tree(computer_tree, test_features, test_labels, classify=False)\n",
    "    full_mse.append(mse)\n",
    "    pruned_tree = computer.iter_prune(computer_tree, prune_features, prune_labels, classify=False)\n",
    "    mse, preds = computer.evaluate_tree(pruned_tree, test_features, test_labels, classify=False)\n",
    "    pruned_mse.append(mse)\n",
    "    full_tree_size.append(len(computer.vertices(computer_tree, location=[], node_list=[])))\n",
    "    pruned_tree_size.append(len(computer.vertices(pruned_tree, location=[], node_list=[])))\n",
    "\n",
    "results = pd.DataFrame({'Full tree mse': full_mse, 'Pruned tree mse': pruned_mse, 'Full tree parent nodes': full_tree_size, 'Pruned tree parent nodes': pruned_tree_size})\n",
    "display(results)\n",
    "print(results.mean())"
   ]
  },
  {
   "cell_type": "code",
   "execution_count": 29,
   "metadata": {},
   "outputs": [
    {
     "name": "stdout",
     "output_type": "stream",
     "text": [
      "full tree parent nodes: 81\n",
      "pruned tree parent nodes: 24\n"
     ]
    }
   ],
   "source": [
    "print(f'full tree parent nodes: {len(computer.vertices(computer_tree, location=[], node_list=[]))}')\n",
    "print(f'pruned tree parent nodes: {len(computer.vertices(pruned_tree, location=[], node_list=[]))}')"
   ]
  },
  {
   "cell_type": "code",
   "execution_count": 30,
   "metadata": {},
   "outputs": [
    {
     "name": "stdout",
     "output_type": "stream",
     "text": [
      "MMIN\n",
      "[12000.0]\n"
     ]
    }
   ],
   "source": [
    "print(computer_tree.feature_name)\n",
    "print(computer_tree.keys)"
   ]
  },
  {
   "cell_type": "markdown",
   "metadata": {},
   "source": [
    "# Forest Fires\n",
    "regression numeric -> numeric"
   ]
  },
  {
   "cell_type": "code",
   "execution_count": 3,
   "metadata": {},
   "outputs": [
    {
     "data": {
      "text/html": [
       "<div>\n",
       "<style scoped>\n",
       "    .dataframe tbody tr th:only-of-type {\n",
       "        vertical-align: middle;\n",
       "    }\n",
       "\n",
       "    .dataframe tbody tr th {\n",
       "        vertical-align: top;\n",
       "    }\n",
       "\n",
       "    .dataframe thead th {\n",
       "        text-align: right;\n",
       "    }\n",
       "</style>\n",
       "<table border=\"1\" class=\"dataframe\">\n",
       "  <thead>\n",
       "    <tr style=\"text-align: right;\">\n",
       "      <th></th>\n",
       "      <th>X</th>\n",
       "      <th>Y</th>\n",
       "      <th>month</th>\n",
       "      <th>day</th>\n",
       "      <th>FFMC</th>\n",
       "      <th>DMC</th>\n",
       "      <th>DC</th>\n",
       "      <th>ISI</th>\n",
       "      <th>temp</th>\n",
       "      <th>RH</th>\n",
       "      <th>wind</th>\n",
       "      <th>rain</th>\n",
       "      <th>area</th>\n",
       "    </tr>\n",
       "  </thead>\n",
       "  <tbody>\n",
       "    <tr>\n",
       "      <th>0</th>\n",
       "      <td>7</td>\n",
       "      <td>5</td>\n",
       "      <td>2</td>\n",
       "      <td>4</td>\n",
       "      <td>86.2</td>\n",
       "      <td>26.2</td>\n",
       "      <td>94.3</td>\n",
       "      <td>5.1</td>\n",
       "      <td>8.2</td>\n",
       "      <td>51.0</td>\n",
       "      <td>6.7</td>\n",
       "      <td>0.0</td>\n",
       "      <td>0.0</td>\n",
       "    </tr>\n",
       "    <tr>\n",
       "      <th>1</th>\n",
       "      <td>7</td>\n",
       "      <td>4</td>\n",
       "      <td>9</td>\n",
       "      <td>1</td>\n",
       "      <td>90.6</td>\n",
       "      <td>35.4</td>\n",
       "      <td>669.1</td>\n",
       "      <td>6.7</td>\n",
       "      <td>18.0</td>\n",
       "      <td>33.0</td>\n",
       "      <td>0.9</td>\n",
       "      <td>0.0</td>\n",
       "      <td>0.0</td>\n",
       "    </tr>\n",
       "    <tr>\n",
       "      <th>2</th>\n",
       "      <td>7</td>\n",
       "      <td>4</td>\n",
       "      <td>9</td>\n",
       "      <td>5</td>\n",
       "      <td>90.6</td>\n",
       "      <td>43.7</td>\n",
       "      <td>686.9</td>\n",
       "      <td>6.7</td>\n",
       "      <td>14.6</td>\n",
       "      <td>33.0</td>\n",
       "      <td>1.3</td>\n",
       "      <td>0.0</td>\n",
       "      <td>0.0</td>\n",
       "    </tr>\n",
       "    <tr>\n",
       "      <th>3</th>\n",
       "      <td>8</td>\n",
       "      <td>6</td>\n",
       "      <td>2</td>\n",
       "      <td>4</td>\n",
       "      <td>91.7</td>\n",
       "      <td>33.3</td>\n",
       "      <td>77.5</td>\n",
       "      <td>9.0</td>\n",
       "      <td>8.3</td>\n",
       "      <td>97.0</td>\n",
       "      <td>4.0</td>\n",
       "      <td>0.2</td>\n",
       "      <td>0.0</td>\n",
       "    </tr>\n",
       "    <tr>\n",
       "      <th>4</th>\n",
       "      <td>8</td>\n",
       "      <td>6</td>\n",
       "      <td>2</td>\n",
       "      <td>6</td>\n",
       "      <td>89.3</td>\n",
       "      <td>51.3</td>\n",
       "      <td>102.2</td>\n",
       "      <td>9.6</td>\n",
       "      <td>11.4</td>\n",
       "      <td>99.0</td>\n",
       "      <td>1.8</td>\n",
       "      <td>0.0</td>\n",
       "      <td>0.0</td>\n",
       "    </tr>\n",
       "  </tbody>\n",
       "</table>\n",
       "</div>"
      ],
      "text/plain": [
       "   X  Y  month  day  FFMC   DMC     DC  ISI  temp    RH  wind  rain  area\n",
       "0  7  5      2    4  86.2  26.2   94.3  5.1   8.2  51.0   6.7   0.0   0.0\n",
       "1  7  4      9    1  90.6  35.4  669.1  6.7  18.0  33.0   0.9   0.0   0.0\n",
       "2  7  4      9    5  90.6  43.7  686.9  6.7  14.6  33.0   1.3   0.0   0.0\n",
       "3  8  6      2    4  91.7  33.3   77.5  9.0   8.3  97.0   4.0   0.2   0.0\n",
       "4  8  6      2    6  89.3  51.3  102.2  9.6  11.4  99.0   1.8   0.0   0.0"
      ]
     },
     "metadata": {},
     "output_type": "display_data"
    },
    {
     "data": {
      "text/plain": [
       "(517, 13)"
      ]
     },
     "execution_count": 3,
     "metadata": {},
     "output_type": "execute_result"
    }
   ],
   "source": [
    "target = 'area'\n",
    "forestfires = ML_Data('data/forest+fires/forestfires.csv')\n",
    "months = ['jan', 'feb', 'mar', 'apr', 'may', 'jun', 'jul', 'aug', 'sep', 'oct', 'nov', 'dec']\n",
    "days = ['mon', 'tue', 'wed', 'thu', 'fri', 'sat', 'sun']\n",
    "forestfires.data = forestfires.replace_categories(dict(zip(months, range(12))), columns = ['month'])\n",
    "forestfires.data = forestfires.replace_categories(dict(zip(days, range(7))), columns = ['day'])\n",
    "forestfires.data = forestfires.replace_missing('?', int_val= True, columns = ['X', 'Y', 'month', 'day'])\n",
    "forestfires.data = forestfires.replace_missing('?', columns = ['FFMC', 'DMC', 'ISI', 'temp', 'RH', 'wind', 'rain', 'area'])\n",
    "display(forestfires.data.head())\n",
    "train1s, train2s, kx2tests = forestfires.crossvalid_kx2(5)\n",
    "forestfires.data.shape"
   ]
  },
  {
   "cell_type": "markdown",
   "metadata": {},
   "source": [
    "## Null Model"
   ]
  },
  {
   "cell_type": "code",
   "execution_count": 4,
   "metadata": {},
   "outputs": [
    {
     "name": "stdout",
     "output_type": "stream",
     "text": [
      "Baseline StDev: 63.65581846794089\n",
      "Mean Squared Error: 64.51803112799931\n"
     ]
    }
   ],
   "source": [
    "train1s, train2s, tests = forestfires.kx2_regress(target, 5)"
   ]
  },
  {
   "cell_type": "code",
   "execution_count": 5,
   "metadata": {},
   "outputs": [
    {
     "data": {
      "text/html": [
       "<div>\n",
       "<style scoped>\n",
       "    .dataframe tbody tr th:only-of-type {\n",
       "        vertical-align: middle;\n",
       "    }\n",
       "\n",
       "    .dataframe tbody tr th {\n",
       "        vertical-align: top;\n",
       "    }\n",
       "\n",
       "    .dataframe thead th {\n",
       "        text-align: right;\n",
       "    }\n",
       "</style>\n",
       "<table border=\"1\" class=\"dataframe\">\n",
       "  <thead>\n",
       "    <tr style=\"text-align: right;\">\n",
       "      <th></th>\n",
       "      <th>Full tree mse</th>\n",
       "      <th>Pruned tree mse</th>\n",
       "      <th>Full tree parent nodes</th>\n",
       "      <th>Pruned tree parent nodes</th>\n",
       "    </tr>\n",
       "  </thead>\n",
       "  <tbody>\n",
       "    <tr>\n",
       "      <th>0</th>\n",
       "      <td>42.283231</td>\n",
       "      <td>29.805774</td>\n",
       "      <td>204</td>\n",
       "      <td>4</td>\n",
       "    </tr>\n",
       "    <tr>\n",
       "      <th>1</th>\n",
       "      <td>107.289243</td>\n",
       "      <td>93.094017</td>\n",
       "      <td>201</td>\n",
       "      <td>1</td>\n",
       "    </tr>\n",
       "    <tr>\n",
       "      <th>2</th>\n",
       "      <td>65.466333</td>\n",
       "      <td>61.304271</td>\n",
       "      <td>204</td>\n",
       "      <td>1</td>\n",
       "    </tr>\n",
       "    <tr>\n",
       "      <th>3</th>\n",
       "      <td>66.458085</td>\n",
       "      <td>61.779694</td>\n",
       "      <td>203</td>\n",
       "      <td>7</td>\n",
       "    </tr>\n",
       "    <tr>\n",
       "      <th>4</th>\n",
       "      <td>96.296139</td>\n",
       "      <td>92.894513</td>\n",
       "      <td>206</td>\n",
       "      <td>2</td>\n",
       "    </tr>\n",
       "  </tbody>\n",
       "</table>\n",
       "</div>"
      ],
      "text/plain": [
       "   Full tree mse  Pruned tree mse  Full tree parent nodes  \\\n",
       "0      42.283231        29.805774                     204   \n",
       "1     107.289243        93.094017                     201   \n",
       "2      65.466333        61.304271                     204   \n",
       "3      66.458085        61.779694                     203   \n",
       "4      96.296139        92.894513                     206   \n",
       "\n",
       "   Pruned tree parent nodes  \n",
       "0                         4  \n",
       "1                         1  \n",
       "2                         1  \n",
       "3                         7  \n",
       "4                         2  "
      ]
     },
     "metadata": {},
     "output_type": "display_data"
    },
    {
     "name": "stdout",
     "output_type": "stream",
     "text": [
      "Full tree mse                75.558606\n",
      "Pruned tree mse              67.775654\n",
      "Full tree parent nodes      203.600000\n",
      "Pruned tree parent nodes      3.000000\n",
      "dtype: float64\n"
     ]
    }
   ],
   "source": [
    "full_mse = []\n",
    "pruned_mse = []\n",
    "full_tree_size = []\n",
    "pruned_tree_size = []\n",
    "\n",
    "for i in range(5):\n",
    "    train_features = train1s[i].drop([target], axis = 1)\n",
    "    train_labels = train1s[i][target]\n",
    "    test_features = train2s[i].drop([target], axis = 1)\n",
    "    test_labels = train2s[i][target]\n",
    "    prune_features = kx2tests[i].drop([target], axis = 1)\n",
    "    prune_labels = kx2tests[i][target]\n",
    "\n",
    "    ff_tree = forestfires.Generate_Tree(train_features[[]], train_features, train_labels, theta = 0, classify=False)\n",
    "    mse, preds = forestfires.evaluate_tree(ff_tree, test_features, test_labels, classify=False)\n",
    "    full_mse.append(mse)\n",
    "    pruned_tree = forestfires.iter_prune(ff_tree, prune_features, prune_labels, classify=False)\n",
    "    mse, preds = forestfires.evaluate_tree(pruned_tree, test_features, test_labels, classify=False)\n",
    "    pruned_mse.append(mse)\n",
    "    full_tree_size.append(len(forestfires.vertices(ff_tree, location=[], node_list=[])))\n",
    "    pruned_tree_size.append(len(forestfires.vertices(pruned_tree, location=[], node_list=[])))\n",
    "\n",
    "results = pd.DataFrame({'Full tree mse': full_mse, 'Pruned tree mse': pruned_mse, 'Full tree parent nodes': full_tree_size, 'Pruned tree parent nodes': pruned_tree_size})\n",
    "display(results)\n",
    "print(results.mean())"
   ]
  },
  {
   "cell_type": "code",
   "execution_count": null,
   "metadata": {},
   "outputs": [
    {
     "name": "stdout",
     "output_type": "stream",
     "text": [
      "full tree parent nodes: 206\n",
      "pruned tree parent nodes: 1\n"
     ]
    }
   ],
   "source": [
    "print(f'full tree parent nodes: {len(forestfires.vertices(ff_tree, location=[], node_list=[]))}')\n",
    "print(f'pruned tree parent nodes: {len(forestfires.vertices(pruned_tree, location=[], node_list=[]))}')"
   ]
  },
  {
   "cell_type": "code",
   "execution_count": 6,
   "metadata": {},
   "outputs": [
    {
     "name": "stdout",
     "output_type": "stream",
     "text": [
      "Y\n",
      "[7.0]\n"
     ]
    }
   ],
   "source": [
    "print(ff_tree.feature_name)\n",
    "print(ff_tree.keys)"
   ]
  }
 ],
 "metadata": {
  "kernelspec": {
   "display_name": "Python 3",
   "language": "python",
   "name": "python3"
  },
  "language_info": {
   "codemirror_mode": {
    "name": "ipython",
    "version": 3
   },
   "file_extension": ".py",
   "mimetype": "text/x-python",
   "name": "python",
   "nbconvert_exporter": "python",
   "pygments_lexer": "ipython3",
   "version": "3.12.0"
  }
 },
 "nbformat": 4,
 "nbformat_minor": 2
}
